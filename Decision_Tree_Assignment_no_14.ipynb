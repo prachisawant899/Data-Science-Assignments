{
  "cells": [
    {
      "cell_type": "markdown",
      "id": "1a3d253c",
      "metadata": {
        "id": "1a3d253c"
      },
      "source": [
        "## Decision Tree"
      ]
    },
    {
      "cell_type": "markdown",
      "id": "a80a7a38",
      "metadata": {
        "id": "a80a7a38"
      },
      "source": [
        "Q1.Problem Statement: A cloth manufacturing company is interested to know about the segment or attributes causes high sale. "
      ]
    },
    {
      "cell_type": "markdown",
      "id": "24c5bd31",
      "metadata": {
        "id": "24c5bd31"
      },
      "source": [
        "#Company dataset"
      ]
    },
    {
      "cell_type": "code",
      "execution_count": 58,
      "id": "84930259",
      "metadata": {
        "id": "84930259"
      },
      "outputs": [],
      "source": [
        "import pandas as pd \n",
        "import numpy as np\n",
        "import matplotlib.pyplot as plt\n",
        "import seaborn as sns\n",
        "from sklearn.model_selection import train_test_split\n",
        "from sklearn.tree import DecisionTreeClassifier,plot_tree\n",
        "from sklearn.metrics import classification_report,confusion_matrix\n",
        "from sklearn.metrics import roc_auc_score\n",
        "from sklearn.metrics import roc_curve\n",
        "import warnings\n",
        "warnings.filterwarnings('ignore')"
      ]
    },
    {
      "cell_type": "code",
      "execution_count": 59,
      "id": "c663b1d1",
      "metadata": {
        "colab": {
          "base_uri": "https://localhost:8080/",
          "height": 424
        },
        "id": "c663b1d1",
        "outputId": "1bb03961-6543-46d4-9e7e-3d875e5079e3"
      },
      "outputs": [
        {
          "output_type": "execute_result",
          "data": {
            "text/plain": [
              "     Sales  CompPrice  Income  Advertising  Population  Price ShelveLoc  Age  \\\n",
              "0     9.50        138      73           11         276    120       Bad   42   \n",
              "1    11.22        111      48           16         260     83      Good   65   \n",
              "2    10.06        113      35           10         269     80    Medium   59   \n",
              "3     7.40        117     100            4         466     97    Medium   55   \n",
              "4     4.15        141      64            3         340    128       Bad   38   \n",
              "..     ...        ...     ...          ...         ...    ...       ...  ...   \n",
              "395  12.57        138     108           17         203    128      Good   33   \n",
              "396   6.14        139      23            3          37    120    Medium   55   \n",
              "397   7.41        162      26           12         368    159    Medium   40   \n",
              "398   5.94        100      79            7         284     95       Bad   50   \n",
              "399   9.71        134      37            0          27    120      Good   49   \n",
              "\n",
              "     Education Urban   US  \n",
              "0           17   Yes  Yes  \n",
              "1           10   Yes  Yes  \n",
              "2           12   Yes  Yes  \n",
              "3           14   Yes  Yes  \n",
              "4           13   Yes   No  \n",
              "..         ...   ...  ...  \n",
              "395         14   Yes  Yes  \n",
              "396         11    No  Yes  \n",
              "397         18   Yes  Yes  \n",
              "398         12   Yes  Yes  \n",
              "399         16   Yes  Yes  \n",
              "\n",
              "[400 rows x 11 columns]"
            ],
            "text/html": [
              "\n",
              "  <div id=\"df-fdf01467-4f1c-4018-8b6d-b77df66b70e2\">\n",
              "    <div class=\"colab-df-container\">\n",
              "      <div>\n",
              "<style scoped>\n",
              "    .dataframe tbody tr th:only-of-type {\n",
              "        vertical-align: middle;\n",
              "    }\n",
              "\n",
              "    .dataframe tbody tr th {\n",
              "        vertical-align: top;\n",
              "    }\n",
              "\n",
              "    .dataframe thead th {\n",
              "        text-align: right;\n",
              "    }\n",
              "</style>\n",
              "<table border=\"1\" class=\"dataframe\">\n",
              "  <thead>\n",
              "    <tr style=\"text-align: right;\">\n",
              "      <th></th>\n",
              "      <th>Sales</th>\n",
              "      <th>CompPrice</th>\n",
              "      <th>Income</th>\n",
              "      <th>Advertising</th>\n",
              "      <th>Population</th>\n",
              "      <th>Price</th>\n",
              "      <th>ShelveLoc</th>\n",
              "      <th>Age</th>\n",
              "      <th>Education</th>\n",
              "      <th>Urban</th>\n",
              "      <th>US</th>\n",
              "    </tr>\n",
              "  </thead>\n",
              "  <tbody>\n",
              "    <tr>\n",
              "      <th>0</th>\n",
              "      <td>9.50</td>\n",
              "      <td>138</td>\n",
              "      <td>73</td>\n",
              "      <td>11</td>\n",
              "      <td>276</td>\n",
              "      <td>120</td>\n",
              "      <td>Bad</td>\n",
              "      <td>42</td>\n",
              "      <td>17</td>\n",
              "      <td>Yes</td>\n",
              "      <td>Yes</td>\n",
              "    </tr>\n",
              "    <tr>\n",
              "      <th>1</th>\n",
              "      <td>11.22</td>\n",
              "      <td>111</td>\n",
              "      <td>48</td>\n",
              "      <td>16</td>\n",
              "      <td>260</td>\n",
              "      <td>83</td>\n",
              "      <td>Good</td>\n",
              "      <td>65</td>\n",
              "      <td>10</td>\n",
              "      <td>Yes</td>\n",
              "      <td>Yes</td>\n",
              "    </tr>\n",
              "    <tr>\n",
              "      <th>2</th>\n",
              "      <td>10.06</td>\n",
              "      <td>113</td>\n",
              "      <td>35</td>\n",
              "      <td>10</td>\n",
              "      <td>269</td>\n",
              "      <td>80</td>\n",
              "      <td>Medium</td>\n",
              "      <td>59</td>\n",
              "      <td>12</td>\n",
              "      <td>Yes</td>\n",
              "      <td>Yes</td>\n",
              "    </tr>\n",
              "    <tr>\n",
              "      <th>3</th>\n",
              "      <td>7.40</td>\n",
              "      <td>117</td>\n",
              "      <td>100</td>\n",
              "      <td>4</td>\n",
              "      <td>466</td>\n",
              "      <td>97</td>\n",
              "      <td>Medium</td>\n",
              "      <td>55</td>\n",
              "      <td>14</td>\n",
              "      <td>Yes</td>\n",
              "      <td>Yes</td>\n",
              "    </tr>\n",
              "    <tr>\n",
              "      <th>4</th>\n",
              "      <td>4.15</td>\n",
              "      <td>141</td>\n",
              "      <td>64</td>\n",
              "      <td>3</td>\n",
              "      <td>340</td>\n",
              "      <td>128</td>\n",
              "      <td>Bad</td>\n",
              "      <td>38</td>\n",
              "      <td>13</td>\n",
              "      <td>Yes</td>\n",
              "      <td>No</td>\n",
              "    </tr>\n",
              "    <tr>\n",
              "      <th>...</th>\n",
              "      <td>...</td>\n",
              "      <td>...</td>\n",
              "      <td>...</td>\n",
              "      <td>...</td>\n",
              "      <td>...</td>\n",
              "      <td>...</td>\n",
              "      <td>...</td>\n",
              "      <td>...</td>\n",
              "      <td>...</td>\n",
              "      <td>...</td>\n",
              "      <td>...</td>\n",
              "    </tr>\n",
              "    <tr>\n",
              "      <th>395</th>\n",
              "      <td>12.57</td>\n",
              "      <td>138</td>\n",
              "      <td>108</td>\n",
              "      <td>17</td>\n",
              "      <td>203</td>\n",
              "      <td>128</td>\n",
              "      <td>Good</td>\n",
              "      <td>33</td>\n",
              "      <td>14</td>\n",
              "      <td>Yes</td>\n",
              "      <td>Yes</td>\n",
              "    </tr>\n",
              "    <tr>\n",
              "      <th>396</th>\n",
              "      <td>6.14</td>\n",
              "      <td>139</td>\n",
              "      <td>23</td>\n",
              "      <td>3</td>\n",
              "      <td>37</td>\n",
              "      <td>120</td>\n",
              "      <td>Medium</td>\n",
              "      <td>55</td>\n",
              "      <td>11</td>\n",
              "      <td>No</td>\n",
              "      <td>Yes</td>\n",
              "    </tr>\n",
              "    <tr>\n",
              "      <th>397</th>\n",
              "      <td>7.41</td>\n",
              "      <td>162</td>\n",
              "      <td>26</td>\n",
              "      <td>12</td>\n",
              "      <td>368</td>\n",
              "      <td>159</td>\n",
              "      <td>Medium</td>\n",
              "      <td>40</td>\n",
              "      <td>18</td>\n",
              "      <td>Yes</td>\n",
              "      <td>Yes</td>\n",
              "    </tr>\n",
              "    <tr>\n",
              "      <th>398</th>\n",
              "      <td>5.94</td>\n",
              "      <td>100</td>\n",
              "      <td>79</td>\n",
              "      <td>7</td>\n",
              "      <td>284</td>\n",
              "      <td>95</td>\n",
              "      <td>Bad</td>\n",
              "      <td>50</td>\n",
              "      <td>12</td>\n",
              "      <td>Yes</td>\n",
              "      <td>Yes</td>\n",
              "    </tr>\n",
              "    <tr>\n",
              "      <th>399</th>\n",
              "      <td>9.71</td>\n",
              "      <td>134</td>\n",
              "      <td>37</td>\n",
              "      <td>0</td>\n",
              "      <td>27</td>\n",
              "      <td>120</td>\n",
              "      <td>Good</td>\n",
              "      <td>49</td>\n",
              "      <td>16</td>\n",
              "      <td>Yes</td>\n",
              "      <td>Yes</td>\n",
              "    </tr>\n",
              "  </tbody>\n",
              "</table>\n",
              "<p>400 rows × 11 columns</p>\n",
              "</div>\n",
              "      <button class=\"colab-df-convert\" onclick=\"convertToInteractive('df-fdf01467-4f1c-4018-8b6d-b77df66b70e2')\"\n",
              "              title=\"Convert this dataframe to an interactive table.\"\n",
              "              style=\"display:none;\">\n",
              "        \n",
              "  <svg xmlns=\"http://www.w3.org/2000/svg\" height=\"24px\"viewBox=\"0 0 24 24\"\n",
              "       width=\"24px\">\n",
              "    <path d=\"M0 0h24v24H0V0z\" fill=\"none\"/>\n",
              "    <path d=\"M18.56 5.44l.94 2.06.94-2.06 2.06-.94-2.06-.94-.94-2.06-.94 2.06-2.06.94zm-11 1L8.5 8.5l.94-2.06 2.06-.94-2.06-.94L8.5 2.5l-.94 2.06-2.06.94zm10 10l.94 2.06.94-2.06 2.06-.94-2.06-.94-.94-2.06-.94 2.06-2.06.94z\"/><path d=\"M17.41 7.96l-1.37-1.37c-.4-.4-.92-.59-1.43-.59-.52 0-1.04.2-1.43.59L10.3 9.45l-7.72 7.72c-.78.78-.78 2.05 0 2.83L4 21.41c.39.39.9.59 1.41.59.51 0 1.02-.2 1.41-.59l7.78-7.78 2.81-2.81c.8-.78.8-2.07 0-2.86zM5.41 20L4 18.59l7.72-7.72 1.47 1.35L5.41 20z\"/>\n",
              "  </svg>\n",
              "      </button>\n",
              "      \n",
              "  <style>\n",
              "    .colab-df-container {\n",
              "      display:flex;\n",
              "      flex-wrap:wrap;\n",
              "      gap: 12px;\n",
              "    }\n",
              "\n",
              "    .colab-df-convert {\n",
              "      background-color: #E8F0FE;\n",
              "      border: none;\n",
              "      border-radius: 50%;\n",
              "      cursor: pointer;\n",
              "      display: none;\n",
              "      fill: #1967D2;\n",
              "      height: 32px;\n",
              "      padding: 0 0 0 0;\n",
              "      width: 32px;\n",
              "    }\n",
              "\n",
              "    .colab-df-convert:hover {\n",
              "      background-color: #E2EBFA;\n",
              "      box-shadow: 0px 1px 2px rgba(60, 64, 67, 0.3), 0px 1px 3px 1px rgba(60, 64, 67, 0.15);\n",
              "      fill: #174EA6;\n",
              "    }\n",
              "\n",
              "    [theme=dark] .colab-df-convert {\n",
              "      background-color: #3B4455;\n",
              "      fill: #D2E3FC;\n",
              "    }\n",
              "\n",
              "    [theme=dark] .colab-df-convert:hover {\n",
              "      background-color: #434B5C;\n",
              "      box-shadow: 0px 1px 3px 1px rgba(0, 0, 0, 0.15);\n",
              "      filter: drop-shadow(0px 1px 2px rgba(0, 0, 0, 0.3));\n",
              "      fill: #FFFFFF;\n",
              "    }\n",
              "  </style>\n",
              "\n",
              "      <script>\n",
              "        const buttonEl =\n",
              "          document.querySelector('#df-fdf01467-4f1c-4018-8b6d-b77df66b70e2 button.colab-df-convert');\n",
              "        buttonEl.style.display =\n",
              "          google.colab.kernel.accessAllowed ? 'block' : 'none';\n",
              "\n",
              "        async function convertToInteractive(key) {\n",
              "          const element = document.querySelector('#df-fdf01467-4f1c-4018-8b6d-b77df66b70e2');\n",
              "          const dataTable =\n",
              "            await google.colab.kernel.invokeFunction('convertToInteractive',\n",
              "                                                     [key], {});\n",
              "          if (!dataTable) return;\n",
              "\n",
              "          const docLinkHtml = 'Like what you see? Visit the ' +\n",
              "            '<a target=\"_blank\" href=https://colab.research.google.com/notebooks/data_table.ipynb>data table notebook</a>'\n",
              "            + ' to learn more about interactive tables.';\n",
              "          element.innerHTML = '';\n",
              "          dataTable['output_type'] = 'display_data';\n",
              "          await google.colab.output.renderOutput(dataTable, element);\n",
              "          const docLink = document.createElement('div');\n",
              "          docLink.innerHTML = docLinkHtml;\n",
              "          element.appendChild(docLink);\n",
              "        }\n",
              "      </script>\n",
              "    </div>\n",
              "  </div>\n",
              "  "
            ]
          },
          "metadata": {},
          "execution_count": 59
        }
      ],
      "source": [
        "company_data=pd.read_csv(r'/content/Company_Data.csv')\n",
        "company_data"
      ]
    },
    {
      "cell_type": "code",
      "execution_count": 60,
      "id": "7a974fa9",
      "metadata": {
        "colab": {
          "base_uri": "https://localhost:8080/"
        },
        "id": "7a974fa9",
        "outputId": "d1e6f532-c432-4684-915b-65a1fc2313d2"
      },
      "outputs": [
        {
          "output_type": "execute_result",
          "data": {
            "text/plain": [
              "(400, 11)"
            ]
          },
          "metadata": {},
          "execution_count": 60
        }
      ],
      "source": [
        "company_data.shape"
      ]
    },
    {
      "cell_type": "code",
      "execution_count": 61,
      "id": "4be17a23",
      "metadata": {
        "colab": {
          "base_uri": "https://localhost:8080/"
        },
        "id": "4be17a23",
        "outputId": "119f02e3-af1c-4195-b52e-14aa4f1da2e9"
      },
      "outputs": [
        {
          "output_type": "stream",
          "name": "stdout",
          "text": [
            "<class 'pandas.core.frame.DataFrame'>\n",
            "RangeIndex: 400 entries, 0 to 399\n",
            "Data columns (total 11 columns):\n",
            " #   Column       Non-Null Count  Dtype  \n",
            "---  ------       --------------  -----  \n",
            " 0   Sales        400 non-null    float64\n",
            " 1   CompPrice    400 non-null    int64  \n",
            " 2   Income       400 non-null    int64  \n",
            " 3   Advertising  400 non-null    int64  \n",
            " 4   Population   400 non-null    int64  \n",
            " 5   Price        400 non-null    int64  \n",
            " 6   ShelveLoc    400 non-null    object \n",
            " 7   Age          400 non-null    int64  \n",
            " 8   Education    400 non-null    int64  \n",
            " 9   Urban        400 non-null    object \n",
            " 10  US           400 non-null    object \n",
            "dtypes: float64(1), int64(7), object(3)\n",
            "memory usage: 34.5+ KB\n"
          ]
        }
      ],
      "source": [
        "company_data.info()"
      ]
    },
    {
      "cell_type": "code",
      "execution_count": 62,
      "id": "a36610c6",
      "metadata": {
        "scrolled": true,
        "colab": {
          "base_uri": "https://localhost:8080/"
        },
        "id": "a36610c6",
        "outputId": "f4d7cde8-b18c-4668-cb4d-ed172795428e"
      },
      "outputs": [
        {
          "output_type": "execute_result",
          "data": {
            "text/plain": [
              "Sales          0\n",
              "CompPrice      0\n",
              "Income         0\n",
              "Advertising    0\n",
              "Population     0\n",
              "Price          0\n",
              "ShelveLoc      0\n",
              "Age            0\n",
              "Education      0\n",
              "Urban          0\n",
              "US             0\n",
              "dtype: int64"
            ]
          },
          "metadata": {},
          "execution_count": 62
        }
      ],
      "source": [
        "company_data.isnull().sum()"
      ]
    },
    {
      "cell_type": "code",
      "execution_count": 63,
      "id": "2a24daaa",
      "metadata": {
        "colab": {
          "base_uri": "https://localhost:8080/",
          "height": 300
        },
        "id": "2a24daaa",
        "outputId": "79be3ced-86c9-40e4-814a-f6430fb853c7"
      },
      "outputs": [
        {
          "output_type": "execute_result",
          "data": {
            "text/plain": [
              "            Sales   CompPrice      Income  Advertising  Population  \\\n",
              "count  400.000000  400.000000  400.000000   400.000000  400.000000   \n",
              "mean     7.496325  124.975000   68.657500     6.635000  264.840000   \n",
              "std      2.824115   15.334512   27.986037     6.650364  147.376436   \n",
              "min      0.000000   77.000000   21.000000     0.000000   10.000000   \n",
              "25%      5.390000  115.000000   42.750000     0.000000  139.000000   \n",
              "50%      7.490000  125.000000   69.000000     5.000000  272.000000   \n",
              "75%      9.320000  135.000000   91.000000    12.000000  398.500000   \n",
              "max     16.270000  175.000000  120.000000    29.000000  509.000000   \n",
              "\n",
              "            Price         Age   Education  \n",
              "count  400.000000  400.000000  400.000000  \n",
              "mean   115.795000   53.322500   13.900000  \n",
              "std     23.676664   16.200297    2.620528  \n",
              "min     24.000000   25.000000   10.000000  \n",
              "25%    100.000000   39.750000   12.000000  \n",
              "50%    117.000000   54.500000   14.000000  \n",
              "75%    131.000000   66.000000   16.000000  \n",
              "max    191.000000   80.000000   18.000000  "
            ],
            "text/html": [
              "\n",
              "  <div id=\"df-0393b627-2e17-4027-a704-102818ec07bc\">\n",
              "    <div class=\"colab-df-container\">\n",
              "      <div>\n",
              "<style scoped>\n",
              "    .dataframe tbody tr th:only-of-type {\n",
              "        vertical-align: middle;\n",
              "    }\n",
              "\n",
              "    .dataframe tbody tr th {\n",
              "        vertical-align: top;\n",
              "    }\n",
              "\n",
              "    .dataframe thead th {\n",
              "        text-align: right;\n",
              "    }\n",
              "</style>\n",
              "<table border=\"1\" class=\"dataframe\">\n",
              "  <thead>\n",
              "    <tr style=\"text-align: right;\">\n",
              "      <th></th>\n",
              "      <th>Sales</th>\n",
              "      <th>CompPrice</th>\n",
              "      <th>Income</th>\n",
              "      <th>Advertising</th>\n",
              "      <th>Population</th>\n",
              "      <th>Price</th>\n",
              "      <th>Age</th>\n",
              "      <th>Education</th>\n",
              "    </tr>\n",
              "  </thead>\n",
              "  <tbody>\n",
              "    <tr>\n",
              "      <th>count</th>\n",
              "      <td>400.000000</td>\n",
              "      <td>400.000000</td>\n",
              "      <td>400.000000</td>\n",
              "      <td>400.000000</td>\n",
              "      <td>400.000000</td>\n",
              "      <td>400.000000</td>\n",
              "      <td>400.000000</td>\n",
              "      <td>400.000000</td>\n",
              "    </tr>\n",
              "    <tr>\n",
              "      <th>mean</th>\n",
              "      <td>7.496325</td>\n",
              "      <td>124.975000</td>\n",
              "      <td>68.657500</td>\n",
              "      <td>6.635000</td>\n",
              "      <td>264.840000</td>\n",
              "      <td>115.795000</td>\n",
              "      <td>53.322500</td>\n",
              "      <td>13.900000</td>\n",
              "    </tr>\n",
              "    <tr>\n",
              "      <th>std</th>\n",
              "      <td>2.824115</td>\n",
              "      <td>15.334512</td>\n",
              "      <td>27.986037</td>\n",
              "      <td>6.650364</td>\n",
              "      <td>147.376436</td>\n",
              "      <td>23.676664</td>\n",
              "      <td>16.200297</td>\n",
              "      <td>2.620528</td>\n",
              "    </tr>\n",
              "    <tr>\n",
              "      <th>min</th>\n",
              "      <td>0.000000</td>\n",
              "      <td>77.000000</td>\n",
              "      <td>21.000000</td>\n",
              "      <td>0.000000</td>\n",
              "      <td>10.000000</td>\n",
              "      <td>24.000000</td>\n",
              "      <td>25.000000</td>\n",
              "      <td>10.000000</td>\n",
              "    </tr>\n",
              "    <tr>\n",
              "      <th>25%</th>\n",
              "      <td>5.390000</td>\n",
              "      <td>115.000000</td>\n",
              "      <td>42.750000</td>\n",
              "      <td>0.000000</td>\n",
              "      <td>139.000000</td>\n",
              "      <td>100.000000</td>\n",
              "      <td>39.750000</td>\n",
              "      <td>12.000000</td>\n",
              "    </tr>\n",
              "    <tr>\n",
              "      <th>50%</th>\n",
              "      <td>7.490000</td>\n",
              "      <td>125.000000</td>\n",
              "      <td>69.000000</td>\n",
              "      <td>5.000000</td>\n",
              "      <td>272.000000</td>\n",
              "      <td>117.000000</td>\n",
              "      <td>54.500000</td>\n",
              "      <td>14.000000</td>\n",
              "    </tr>\n",
              "    <tr>\n",
              "      <th>75%</th>\n",
              "      <td>9.320000</td>\n",
              "      <td>135.000000</td>\n",
              "      <td>91.000000</td>\n",
              "      <td>12.000000</td>\n",
              "      <td>398.500000</td>\n",
              "      <td>131.000000</td>\n",
              "      <td>66.000000</td>\n",
              "      <td>16.000000</td>\n",
              "    </tr>\n",
              "    <tr>\n",
              "      <th>max</th>\n",
              "      <td>16.270000</td>\n",
              "      <td>175.000000</td>\n",
              "      <td>120.000000</td>\n",
              "      <td>29.000000</td>\n",
              "      <td>509.000000</td>\n",
              "      <td>191.000000</td>\n",
              "      <td>80.000000</td>\n",
              "      <td>18.000000</td>\n",
              "    </tr>\n",
              "  </tbody>\n",
              "</table>\n",
              "</div>\n",
              "      <button class=\"colab-df-convert\" onclick=\"convertToInteractive('df-0393b627-2e17-4027-a704-102818ec07bc')\"\n",
              "              title=\"Convert this dataframe to an interactive table.\"\n",
              "              style=\"display:none;\">\n",
              "        \n",
              "  <svg xmlns=\"http://www.w3.org/2000/svg\" height=\"24px\"viewBox=\"0 0 24 24\"\n",
              "       width=\"24px\">\n",
              "    <path d=\"M0 0h24v24H0V0z\" fill=\"none\"/>\n",
              "    <path d=\"M18.56 5.44l.94 2.06.94-2.06 2.06-.94-2.06-.94-.94-2.06-.94 2.06-2.06.94zm-11 1L8.5 8.5l.94-2.06 2.06-.94-2.06-.94L8.5 2.5l-.94 2.06-2.06.94zm10 10l.94 2.06.94-2.06 2.06-.94-2.06-.94-.94-2.06-.94 2.06-2.06.94z\"/><path d=\"M17.41 7.96l-1.37-1.37c-.4-.4-.92-.59-1.43-.59-.52 0-1.04.2-1.43.59L10.3 9.45l-7.72 7.72c-.78.78-.78 2.05 0 2.83L4 21.41c.39.39.9.59 1.41.59.51 0 1.02-.2 1.41-.59l7.78-7.78 2.81-2.81c.8-.78.8-2.07 0-2.86zM5.41 20L4 18.59l7.72-7.72 1.47 1.35L5.41 20z\"/>\n",
              "  </svg>\n",
              "      </button>\n",
              "      \n",
              "  <style>\n",
              "    .colab-df-container {\n",
              "      display:flex;\n",
              "      flex-wrap:wrap;\n",
              "      gap: 12px;\n",
              "    }\n",
              "\n",
              "    .colab-df-convert {\n",
              "      background-color: #E8F0FE;\n",
              "      border: none;\n",
              "      border-radius: 50%;\n",
              "      cursor: pointer;\n",
              "      display: none;\n",
              "      fill: #1967D2;\n",
              "      height: 32px;\n",
              "      padding: 0 0 0 0;\n",
              "      width: 32px;\n",
              "    }\n",
              "\n",
              "    .colab-df-convert:hover {\n",
              "      background-color: #E2EBFA;\n",
              "      box-shadow: 0px 1px 2px rgba(60, 64, 67, 0.3), 0px 1px 3px 1px rgba(60, 64, 67, 0.15);\n",
              "      fill: #174EA6;\n",
              "    }\n",
              "\n",
              "    [theme=dark] .colab-df-convert {\n",
              "      background-color: #3B4455;\n",
              "      fill: #D2E3FC;\n",
              "    }\n",
              "\n",
              "    [theme=dark] .colab-df-convert:hover {\n",
              "      background-color: #434B5C;\n",
              "      box-shadow: 0px 1px 3px 1px rgba(0, 0, 0, 0.15);\n",
              "      filter: drop-shadow(0px 1px 2px rgba(0, 0, 0, 0.3));\n",
              "      fill: #FFFFFF;\n",
              "    }\n",
              "  </style>\n",
              "\n",
              "      <script>\n",
              "        const buttonEl =\n",
              "          document.querySelector('#df-0393b627-2e17-4027-a704-102818ec07bc button.colab-df-convert');\n",
              "        buttonEl.style.display =\n",
              "          google.colab.kernel.accessAllowed ? 'block' : 'none';\n",
              "\n",
              "        async function convertToInteractive(key) {\n",
              "          const element = document.querySelector('#df-0393b627-2e17-4027-a704-102818ec07bc');\n",
              "          const dataTable =\n",
              "            await google.colab.kernel.invokeFunction('convertToInteractive',\n",
              "                                                     [key], {});\n",
              "          if (!dataTable) return;\n",
              "\n",
              "          const docLinkHtml = 'Like what you see? Visit the ' +\n",
              "            '<a target=\"_blank\" href=https://colab.research.google.com/notebooks/data_table.ipynb>data table notebook</a>'\n",
              "            + ' to learn more about interactive tables.';\n",
              "          element.innerHTML = '';\n",
              "          dataTable['output_type'] = 'display_data';\n",
              "          await google.colab.output.renderOutput(dataTable, element);\n",
              "          const docLink = document.createElement('div');\n",
              "          docLink.innerHTML = docLinkHtml;\n",
              "          element.appendChild(docLink);\n",
              "        }\n",
              "      </script>\n",
              "    </div>\n",
              "  </div>\n",
              "  "
            ]
          },
          "metadata": {},
          "execution_count": 63
        }
      ],
      "source": [
        "company_data.describe()"
      ]
    },
    {
      "cell_type": "code",
      "execution_count": 64,
      "id": "972fded0",
      "metadata": {
        "colab": {
          "base_uri": "https://localhost:8080/",
          "height": 279
        },
        "id": "972fded0",
        "outputId": "c814c266-5e20-49e8-8548-b21a2b17431a"
      },
      "outputs": [
        {
          "output_type": "display_data",
          "data": {
            "text/plain": [
              "<Figure size 432x288 with 1 Axes>"
            ],
            "image/png": "[encoded data removed]"
          },
          "metadata": {
            "needs_background": "light"
          }
        }
      ],
      "source": [
        "sns.boxplot(company_data['Sales'])\n",
        "import warnings\n",
        "warnings.filterwarnings('ignore')"
      ]
    },
    {
      "cell_type": "code",
      "execution_count": 65,
      "id": "73455f02",
      "metadata": {
        "id": "73455f02"
      },
      "outputs": [],
      "source": [
        "num_columns = company_data.select_dtypes(exclude='object').columns.tolist()"
      ]
    },
    {
      "cell_type": "code",
      "execution_count": 66,
      "id": "4d40ac78",
      "metadata": {
        "colab": {
          "base_uri": "https://localhost:8080/",
          "height": 1000
        },
        "id": "4d40ac78",
        "outputId": "a645d988-7f83-44ec-9cd9-1277c3801770"
      },
      "outputs": [
        {
          "output_type": "display_data",
          "data": {
            "text/plain": [
              "<Figure size 1296x2880 with 16 Axes>"
            ],
            "image/png": "[encoded data removed]"
          },
          "metadata": {
            "needs_background": "light"
          }
        },
        {
          "output_type": "execute_result",
          "data": {
            "text/plain": [
              "             Sales  CompPrice    Income  Advertising  Population     Price  \\\n",
              "skewness  0.185560  -0.042755  0.049444     0.639586   -0.051227 -0.125286   \n",
              "kurtosis -0.080877   0.041666 -1.085289    -0.545118   -1.202318  0.451885   \n",
              "\n",
              "               Age  Education  \n",
              "skewness -0.077182   0.044007  \n",
              "kurtosis -1.134392  -1.298332  "
            ],
            "text/html": [
              "\n",
              "  <div id=\"df-1a475c45-2ef9-43a2-8945-35c1aa3dc13f\">\n",
              "    <div class=\"colab-df-container\">\n",
              "      <div>\n",
              "<style scoped>\n",
              "    .dataframe tbody tr th:only-of-type {\n",
              "        vertical-align: middle;\n",
              "    }\n",
              "\n",
              "    .dataframe tbody tr th {\n",
              "        vertical-align: top;\n",
              "    }\n",
              "\n",
              "    .dataframe thead th {\n",
              "        text-align: right;\n",
              "    }\n",
              "</style>\n",
              "<table border=\"1\" class=\"dataframe\">\n",
              "  <thead>\n",
              "    <tr style=\"text-align: right;\">\n",
              "      <th></th>\n",
              "      <th>Sales</th>\n",
              "      <th>CompPrice</th>\n",
              "      <th>Income</th>\n",
              "      <th>Advertising</th>\n",
              "      <th>Population</th>\n",
              "      <th>Price</th>\n",
              "      <th>Age</th>\n",
              "      <th>Education</th>\n",
              "    </tr>\n",
              "  </thead>\n",
              "  <tbody>\n",
              "    <tr>\n",
              "      <th>skewness</th>\n",
              "      <td>0.185560</td>\n",
              "      <td>-0.042755</td>\n",
              "      <td>0.049444</td>\n",
              "      <td>0.639586</td>\n",
              "      <td>-0.051227</td>\n",
              "      <td>-0.125286</td>\n",
              "      <td>-0.077182</td>\n",
              "      <td>0.044007</td>\n",
              "    </tr>\n",
              "    <tr>\n",
              "      <th>kurtosis</th>\n",
              "      <td>-0.080877</td>\n",
              "      <td>0.041666</td>\n",
              "      <td>-1.085289</td>\n",
              "      <td>-0.545118</td>\n",
              "      <td>-1.202318</td>\n",
              "      <td>0.451885</td>\n",
              "      <td>-1.134392</td>\n",
              "      <td>-1.298332</td>\n",
              "    </tr>\n",
              "  </tbody>\n",
              "</table>\n",
              "</div>\n",
              "      <button class=\"colab-df-convert\" onclick=\"convertToInteractive('df-1a475c45-2ef9-43a2-8945-35c1aa3dc13f')\"\n",
              "              title=\"Convert this dataframe to an interactive table.\"\n",
              "              style=\"display:none;\">\n",
              "        \n",
              "  <svg xmlns=\"http://www.w3.org/2000/svg\" height=\"24px\"viewBox=\"0 0 24 24\"\n",
              "       width=\"24px\">\n",
              "    <path d=\"M0 0h24v24H0V0z\" fill=\"none\"/>\n",
              "    <path d=\"M18.56 5.44l.94 2.06.94-2.06 2.06-.94-2.06-.94-.94-2.06-.94 2.06-2.06.94zm-11 1L8.5 8.5l.94-2.06 2.06-.94-2.06-.94L8.5 2.5l-.94 2.06-2.06.94zm10 10l.94 2.06.94-2.06 2.06-.94-2.06-.94-.94-2.06-.94 2.06-2.06.94z\"/><path d=\"M17.41 7.96l-1.37-1.37c-.4-.4-.92-.59-1.43-.59-.52 0-1.04.2-1.43.59L10.3 9.45l-7.72 7.72c-.78.78-.78 2.05 0 2.83L4 21.41c.39.39.9.59 1.41.59.51 0 1.02-.2 1.41-.59l7.78-7.78 2.81-2.81c.8-.78.8-2.07 0-2.86zM5.41 20L4 18.59l7.72-7.72 1.47 1.35L5.41 20z\"/>\n",
              "  </svg>\n",
              "      </button>\n",
              "      \n",
              "  <style>\n",
              "    .colab-df-container {\n",
              "      display:flex;\n",
              "      flex-wrap:wrap;\n",
              "      gap: 12px;\n",
              "    }\n",
              "\n",
              "    .colab-df-convert {\n",
              "      background-color: #E8F0FE;\n",
              "      border: none;\n",
              "      border-radius: 50%;\n",
              "      cursor: pointer;\n",
              "      display: none;\n",
              "      fill: #1967D2;\n",
              "      height: 32px;\n",
              "      padding: 0 0 0 0;\n",
              "      width: 32px;\n",
              "    }\n",
              "\n",
              "    .colab-df-convert:hover {\n",
              "      background-color: #E2EBFA;\n",
              "      box-shadow: 0px 1px 2px rgba(60, 64, 67, 0.3), 0px 1px 3px 1px rgba(60, 64, 67, 0.15);\n",
              "      fill: #174EA6;\n",
              "    }\n",
              "\n",
              "    [theme=dark] .colab-df-convert {\n",
              "      background-color: #3B4455;\n",
              "      fill: #D2E3FC;\n",
              "    }\n",
              "\n",
              "    [theme=dark] .colab-df-convert:hover {\n",
              "      background-color: #434B5C;\n",
              "      box-shadow: 0px 1px 3px 1px rgba(0, 0, 0, 0.15);\n",
              "      filter: drop-shadow(0px 1px 2px rgba(0, 0, 0, 0.3));\n",
              "      fill: #FFFFFF;\n",
              "    }\n",
              "  </style>\n",
              "\n",
              "      <script>\n",
              "        const buttonEl =\n",
              "          document.querySelector('#df-1a475c45-2ef9-43a2-8945-35c1aa3dc13f button.colab-df-convert');\n",
              "        buttonEl.style.display =\n",
              "          google.colab.kernel.accessAllowed ? 'block' : 'none';\n",
              "\n",
              "        async function convertToInteractive(key) {\n",
              "          const element = document.querySelector('#df-1a475c45-2ef9-43a2-8945-35c1aa3dc13f');\n",
              "          const dataTable =\n",
              "            await google.colab.kernel.invokeFunction('convertToInteractive',\n",
              "                                                     [key], {});\n",
              "          if (!dataTable) return;\n",
              "\n",
              "          const docLinkHtml = 'Like what you see? Visit the ' +\n",
              "            '<a target=\"_blank\" href=https://colab.research.google.com/notebooks/data_table.ipynb>data table notebook</a>'\n",
              "            + ' to learn more about interactive tables.';\n",
              "          element.innerHTML = '';\n",
              "          dataTable['output_type'] = 'display_data';\n",
              "          await google.colab.output.renderOutput(dataTable, element);\n",
              "          const docLink = document.createElement('div');\n",
              "          docLink.innerHTML = docLinkHtml;\n",
              "          element.appendChild(docLink);\n",
              "        }\n",
              "      </script>\n",
              "    </div>\n",
              "  </div>\n",
              "  "
            ]
          },
          "metadata": {},
          "execution_count": 66
        }
      ],
      "source": [
        "plt.figure(figsize=(18,40))\n",
        "for i,col in enumerate(num_columns,1):\n",
        "    plt.subplot(8,4,i)\n",
        "    sns.kdeplot(company_data[col],color='b',shade=True)\n",
        "    plt.subplot(8,4,i+10)\n",
        "    company_data[col].plot.box()\n",
        "plt.tight_layout() \n",
        "plt.show()\n",
        "num_data = company_data[num_columns]\n",
        "pd.DataFrame(data=[num_data.skew(),num_data.kurtosis()],index=['skewness','kurtosis'])"
      ]
    },
    {
      "cell_type": "markdown",
      "id": "1565d2db",
      "metadata": {
        "id": "1565d2db"
      },
      "source": [
        "As the skewness is less than 2 we can proceed for further analysis"
      ]
    },
    {
      "cell_type": "markdown",
      "id": "f7ca9501",
      "metadata": {
        "id": "f7ca9501"
      },
      "source": [
        "## Data Preprocessing"
      ]
    },
    {
      "cell_type": "code",
      "execution_count": 67,
      "id": "9f001d35",
      "metadata": {
        "id": "9f001d35"
      },
      "outputs": [],
      "source": [
        "#Converting target variable in categorical variable\n",
        "company_data[\"Sales\"] = np.where(company_data['Sales']>8,'yes','no') "
      ]
    },
    {
      "cell_type": "code",
      "execution_count": 68,
      "id": "1c65d132",
      "metadata": {
        "colab": {
          "base_uri": "https://localhost:8080/",
          "height": 424
        },
        "id": "1c65d132",
        "outputId": "b65325f0-2fee-4226-f1fa-2b56ff34afe8"
      },
      "outputs": [
        {
          "output_type": "execute_result",
          "data": {
            "text/plain": [
              "    Sales  CompPrice  Income  Advertising  Population  Price ShelveLoc  Age  \\\n",
              "0     yes        138      73           11         276    120       Bad   42   \n",
              "1     yes        111      48           16         260     83      Good   65   \n",
              "2     yes        113      35           10         269     80    Medium   59   \n",
              "3      no        117     100            4         466     97    Medium   55   \n",
              "4      no        141      64            3         340    128       Bad   38   \n",
              "..    ...        ...     ...          ...         ...    ...       ...  ...   \n",
              "395   yes        138     108           17         203    128      Good   33   \n",
              "396    no        139      23            3          37    120    Medium   55   \n",
              "397    no        162      26           12         368    159    Medium   40   \n",
              "398    no        100      79            7         284     95       Bad   50   \n",
              "399   yes        134      37            0          27    120      Good   49   \n",
              "\n",
              "     Education Urban   US  \n",
              "0           17   Yes  Yes  \n",
              "1           10   Yes  Yes  \n",
              "2           12   Yes  Yes  \n",
              "3           14   Yes  Yes  \n",
              "4           13   Yes   No  \n",
              "..         ...   ...  ...  \n",
              "395         14   Yes  Yes  \n",
              "396         11    No  Yes  \n",
              "397         18   Yes  Yes  \n",
              "398         12   Yes  Yes  \n",
              "399         16   Yes  Yes  \n",
              "\n",
              "[400 rows x 11 columns]"
            ],
            "text/html": [
              "\n",
              "  <div id=\"df-066665d2-c023-4f2b-976f-4e83d57f8cba\">\n",
              "    <div class=\"colab-df-container\">\n",
              "      <div>\n",
              "<style scoped>\n",
              "    .dataframe tbody tr th:only-of-type {\n",
              "        vertical-align: middle;\n",
              "    }\n",
              "\n",
              "    .dataframe tbody tr th {\n",
              "        vertical-align: top;\n",
              "    }\n",
              "\n",
              "    .dataframe thead th {\n",
              "        text-align: right;\n",
              "    }\n",
              "</style>\n",
              "<table border=\"1\" class=\"dataframe\">\n",
              "  <thead>\n",
              "    <tr style=\"text-align: right;\">\n",
              "      <th></th>\n",
              "      <th>Sales</th>\n",
              "      <th>CompPrice</th>\n",
              "      <th>Income</th>\n",
              "      <th>Advertising</th>\n",
              "      <th>Population</th>\n",
              "      <th>Price</th>\n",
              "      <th>ShelveLoc</th>\n",
              "      <th>Age</th>\n",
              "      <th>Education</th>\n",
              "      <th>Urban</th>\n",
              "      <th>US</th>\n",
              "    </tr>\n",
              "  </thead>\n",
              "  <tbody>\n",
              "    <tr>\n",
              "      <th>0</th>\n",
              "      <td>yes</td>\n",
              "      <td>138</td>\n",
              "      <td>73</td>\n",
              "      <td>11</td>\n",
              "      <td>276</td>\n",
              "      <td>120</td>\n",
              "      <td>Bad</td>\n",
              "      <td>42</td>\n",
              "      <td>17</td>\n",
              "      <td>Yes</td>\n",
              "      <td>Yes</td>\n",
              "    </tr>\n",
              "    <tr>\n",
              "      <th>1</th>\n",
              "      <td>yes</td>\n",
              "      <td>111</td>\n",
              "      <td>48</td>\n",
              "      <td>16</td>\n",
              "      <td>260</td>\n",
              "      <td>83</td>\n",
              "      <td>Good</td>\n",
              "      <td>65</td>\n",
              "      <td>10</td>\n",
              "      <td>Yes</td>\n",
              "      <td>Yes</td>\n",
              "    </tr>\n",
              "    <tr>\n",
              "      <th>2</th>\n",
              "      <td>yes</td>\n",
              "      <td>113</td>\n",
              "      <td>35</td>\n",
              "      <td>10</td>\n",
              "      <td>269</td>\n",
              "      <td>80</td>\n",
              "      <td>Medium</td>\n",
              "      <td>59</td>\n",
              "      <td>12</td>\n",
              "      <td>Yes</td>\n",
              "      <td>Yes</td>\n",
              "    </tr>\n",
              "    <tr>\n",
              "      <th>3</th>\n",
              "      <td>no</td>\n",
              "      <td>117</td>\n",
              "      <td>100</td>\n",
              "      <td>4</td>\n",
              "      <td>466</td>\n",
              "      <td>97</td>\n",
              "      <td>Medium</td>\n",
              "      <td>55</td>\n",
              "      <td>14</td>\n",
              "      <td>Yes</td>\n",
              "      <td>Yes</td>\n",
              "    </tr>\n",
              "    <tr>\n",
              "      <th>4</th>\n",
              "      <td>no</td>\n",
              "      <td>141</td>\n",
              "      <td>64</td>\n",
              "      <td>3</td>\n",
              "      <td>340</td>\n",
              "      <td>128</td>\n",
              "      <td>Bad</td>\n",
              "      <td>38</td>\n",
              "      <td>13</td>\n",
              "      <td>Yes</td>\n",
              "      <td>No</td>\n",
              "    </tr>\n",
              "    <tr>\n",
              "      <th>...</th>\n",
              "      <td>...</td>\n",
              "      <td>...</td>\n",
              "      <td>...</td>\n",
              "      <td>...</td>\n",
              "      <td>...</td>\n",
              "      <td>...</td>\n",
              "      <td>...</td>\n",
              "      <td>...</td>\n",
              "      <td>...</td>\n",
              "      <td>...</td>\n",
              "      <td>...</td>\n",
              "    </tr>\n",
              "    <tr>\n",
              "      <th>395</th>\n",
              "      <td>yes</td>\n",
              "      <td>138</td>\n",
              "      <td>108</td>\n",
              "      <td>17</td>\n",
              "      <td>203</td>\n",
              "      <td>128</td>\n",
              "      <td>Good</td>\n",
              "      <td>33</td>\n",
              "      <td>14</td>\n",
              "      <td>Yes</td>\n",
              "      <td>Yes</td>\n",
              "    </tr>\n",
              "    <tr>\n",
              "      <th>396</th>\n",
              "      <td>no</td>\n",
              "      <td>139</td>\n",
              "      <td>23</td>\n",
              "      <td>3</td>\n",
              "      <td>37</td>\n",
              "      <td>120</td>\n",
              "      <td>Medium</td>\n",
              "      <td>55</td>\n",
              "      <td>11</td>\n",
              "      <td>No</td>\n",
              "      <td>Yes</td>\n",
              "    </tr>\n",
              "    <tr>\n",
              "      <th>397</th>\n",
              "      <td>no</td>\n",
              "      <td>162</td>\n",
              "      <td>26</td>\n",
              "      <td>12</td>\n",
              "      <td>368</td>\n",
              "      <td>159</td>\n",
              "      <td>Medium</td>\n",
              "      <td>40</td>\n",
              "      <td>18</td>\n",
              "      <td>Yes</td>\n",
              "      <td>Yes</td>\n",
              "    </tr>\n",
              "    <tr>\n",
              "      <th>398</th>\n",
              "      <td>no</td>\n",
              "      <td>100</td>\n",
              "      <td>79</td>\n",
              "      <td>7</td>\n",
              "      <td>284</td>\n",
              "      <td>95</td>\n",
              "      <td>Bad</td>\n",
              "      <td>50</td>\n",
              "      <td>12</td>\n",
              "      <td>Yes</td>\n",
              "      <td>Yes</td>\n",
              "    </tr>\n",
              "    <tr>\n",
              "      <th>399</th>\n",
              "      <td>yes</td>\n",
              "      <td>134</td>\n",
              "      <td>37</td>\n",
              "      <td>0</td>\n",
              "      <td>27</td>\n",
              "      <td>120</td>\n",
              "      <td>Good</td>\n",
              "      <td>49</td>\n",
              "      <td>16</td>\n",
              "      <td>Yes</td>\n",
              "      <td>Yes</td>\n",
              "    </tr>\n",
              "  </tbody>\n",
              "</table>\n",
              "<p>400 rows × 11 columns</p>\n",
              "</div>\n",
              "      <button class=\"colab-df-convert\" onclick=\"convertToInteractive('df-066665d2-c023-4f2b-976f-4e83d57f8cba')\"\n",
              "              title=\"Convert this dataframe to an interactive table.\"\n",
              "              style=\"display:none;\">\n",
              "        \n",
              "  <svg xmlns=\"http://www.w3.org/2000/svg\" height=\"24px\"viewBox=\"0 0 24 24\"\n",
              "       width=\"24px\">\n",
              "    <path d=\"M0 0h24v24H0V0z\" fill=\"none\"/>\n",
              "    <path d=\"M18.56 5.44l.94 2.06.94-2.06 2.06-.94-2.06-.94-.94-2.06-.94 2.06-2.06.94zm-11 1L8.5 8.5l.94-2.06 2.06-.94-2.06-.94L8.5 2.5l-.94 2.06-2.06.94zm10 10l.94 2.06.94-2.06 2.06-.94-2.06-.94-.94-2.06-.94 2.06-2.06.94z\"/><path d=\"M17.41 7.96l-1.37-1.37c-.4-.4-.92-.59-1.43-.59-.52 0-1.04.2-1.43.59L10.3 9.45l-7.72 7.72c-.78.78-.78 2.05 0 2.83L4 21.41c.39.39.9.59 1.41.59.51 0 1.02-.2 1.41-.59l7.78-7.78 2.81-2.81c.8-.78.8-2.07 0-2.86zM5.41 20L4 18.59l7.72-7.72 1.47 1.35L5.41 20z\"/>\n",
              "  </svg>\n",
              "      </button>\n",
              "      \n",
              "  <style>\n",
              "    .colab-df-container {\n",
              "      display:flex;\n",
              "      flex-wrap:wrap;\n",
              "      gap: 12px;\n",
              "    }\n",
              "\n",
              "    .colab-df-convert {\n",
              "      background-color: #E8F0FE;\n",
              "      border: none;\n",
              "      border-radius: 50%;\n",
              "      cursor: pointer;\n",
              "      display: none;\n",
              "      fill: #1967D2;\n",
              "      height: 32px;\n",
              "      padding: 0 0 0 0;\n",
              "      width: 32px;\n",
              "    }\n",
              "\n",
              "    .colab-df-convert:hover {\n",
              "      background-color: #E2EBFA;\n",
              "      box-shadow: 0px 1px 2px rgba(60, 64, 67, 0.3), 0px 1px 3px 1px rgba(60, 64, 67, 0.15);\n",
              "      fill: #174EA6;\n",
              "    }\n",
              "\n",
              "    [theme=dark] .colab-df-convert {\n",
              "      background-color: #3B4455;\n",
              "      fill: #D2E3FC;\n",
              "    }\n",
              "\n",
              "    [theme=dark] .colab-df-convert:hover {\n",
              "      background-color: #434B5C;\n",
              "      box-shadow: 0px 1px 3px 1px rgba(0, 0, 0, 0.15);\n",
              "      filter: drop-shadow(0px 1px 2px rgba(0, 0, 0, 0.3));\n",
              "      fill: #FFFFFF;\n",
              "    }\n",
              "  </style>\n",
              "\n",
              "      <script>\n",
              "        const buttonEl =\n",
              "          document.querySelector('#df-066665d2-c023-4f2b-976f-4e83d57f8cba button.colab-df-convert');\n",
              "        buttonEl.style.display =\n",
              "          google.colab.kernel.accessAllowed ? 'block' : 'none';\n",
              "\n",
              "        async function convertToInteractive(key) {\n",
              "          const element = document.querySelector('#df-066665d2-c023-4f2b-976f-4e83d57f8cba');\n",
              "          const dataTable =\n",
              "            await google.colab.kernel.invokeFunction('convertToInteractive',\n",
              "                                                     [key], {});\n",
              "          if (!dataTable) return;\n",
              "\n",
              "          const docLinkHtml = 'Like what you see? Visit the ' +\n",
              "            '<a target=\"_blank\" href=https://colab.research.google.com/notebooks/data_table.ipynb>data table notebook</a>'\n",
              "            + ' to learn more about interactive tables.';\n",
              "          element.innerHTML = '';\n",
              "          dataTable['output_type'] = 'display_data';\n",
              "          await google.colab.output.renderOutput(dataTable, element);\n",
              "          const docLink = document.createElement('div');\n",
              "          docLink.innerHTML = docLinkHtml;\n",
              "          element.appendChild(docLink);\n",
              "        }\n",
              "      </script>\n",
              "    </div>\n",
              "  </div>\n",
              "  "
            ]
          },
          "metadata": {},
          "execution_count": 68
        }
      ],
      "source": [
        "company_data"
      ]
    },
    {
      "cell_type": "code",
      "execution_count": 69,
      "id": "e0c779e8",
      "metadata": {
        "id": "e0c779e8"
      },
      "outputs": [],
      "source": [
        "from sklearn.preprocessing import LabelEncoder,OneHotEncoder"
      ]
    },
    {
      "cell_type": "code",
      "execution_count": 70,
      "id": "0cf3a0cf",
      "metadata": {
        "id": "0cf3a0cf"
      },
      "outputs": [],
      "source": [
        "LE=LabelEncoder()\n",
        "company_data['ShelveLoc']=LE.fit_transform(company_data['ShelveLoc'])"
      ]
    },
    {
      "cell_type": "code",
      "execution_count": 71,
      "id": "5d1fd520",
      "metadata": {
        "colab": {
          "base_uri": "https://localhost:8080/",
          "height": 424
        },
        "id": "5d1fd520",
        "outputId": "06d1efe0-ca6d-4da5-913b-f2d7da966413"
      },
      "outputs": [
        {
          "output_type": "execute_result",
          "data": {
            "text/plain": [
              "     Sales  CompPrice  Income  Advertising  Population  Price  ShelveLoc  Age  \\\n",
              "0        1        138      73           11         276    120          0   42   \n",
              "1        1        111      48           16         260     83          1   65   \n",
              "2        1        113      35           10         269     80          2   59   \n",
              "3        0        117     100            4         466     97          2   55   \n",
              "4        0        141      64            3         340    128          0   38   \n",
              "..     ...        ...     ...          ...         ...    ...        ...  ...   \n",
              "395      1        138     108           17         203    128          1   33   \n",
              "396      0        139      23            3          37    120          2   55   \n",
              "397      0        162      26           12         368    159          2   40   \n",
              "398      0        100      79            7         284     95          0   50   \n",
              "399      1        134      37            0          27    120          1   49   \n",
              "\n",
              "     Education  Urban  US  \n",
              "0           17      1   1  \n",
              "1           10      1   1  \n",
              "2           12      1   1  \n",
              "3           14      1   1  \n",
              "4           13      1   0  \n",
              "..         ...    ...  ..  \n",
              "395         14      1   1  \n",
              "396         11      0   1  \n",
              "397         18      1   1  \n",
              "398         12      1   1  \n",
              "399         16      1   1  \n",
              "\n",
              "[400 rows x 11 columns]"
            ],
            "text/html": [
              "\n",
              "  <div id=\"df-22866b3f-60c6-4701-9225-4059b03d0c9a\">\n",
              "    <div class=\"colab-df-container\">\n",
              "      <div>\n",
              "<style scoped>\n",
              "    .dataframe tbody tr th:only-of-type {\n",
              "        vertical-align: middle;\n",
              "    }\n",
              "\n",
              "    .dataframe tbody tr th {\n",
              "        vertical-align: top;\n",
              "    }\n",
              "\n",
              "    .dataframe thead th {\n",
              "        text-align: right;\n",
              "    }\n",
              "</style>\n",
              "<table border=\"1\" class=\"dataframe\">\n",
              "  <thead>\n",
              "    <tr style=\"text-align: right;\">\n",
              "      <th></th>\n",
              "      <th>Sales</th>\n",
              "      <th>CompPrice</th>\n",
              "      <th>Income</th>\n",
              "      <th>Advertising</th>\n",
              "      <th>Population</th>\n",
              "      <th>Price</th>\n",
              "      <th>ShelveLoc</th>\n",
              "      <th>Age</th>\n",
              "      <th>Education</th>\n",
              "      <th>Urban</th>\n",
              "      <th>US</th>\n",
              "    </tr>\n",
              "  </thead>\n",
              "  <tbody>\n",
              "    <tr>\n",
              "      <th>0</th>\n",
              "      <td>1</td>\n",
              "      <td>138</td>\n",
              "      <td>73</td>\n",
              "      <td>11</td>\n",
              "      <td>276</td>\n",
              "      <td>120</td>\n",
              "      <td>0</td>\n",
              "      <td>42</td>\n",
              "      <td>17</td>\n",
              "      <td>1</td>\n",
              "      <td>1</td>\n",
              "    </tr>\n",
              "    <tr>\n",
              "      <th>1</th>\n",
              "      <td>1</td>\n",
              "      <td>111</td>\n",
              "      <td>48</td>\n",
              "      <td>16</td>\n",
              "      <td>260</td>\n",
              "      <td>83</td>\n",
              "      <td>1</td>\n",
              "      <td>65</td>\n",
              "      <td>10</td>\n",
              "      <td>1</td>\n",
              "      <td>1</td>\n",
              "    </tr>\n",
              "    <tr>\n",
              "      <th>2</th>\n",
              "      <td>1</td>\n",
              "      <td>113</td>\n",
              "      <td>35</td>\n",
              "      <td>10</td>\n",
              "      <td>269</td>\n",
              "      <td>80</td>\n",
              "      <td>2</td>\n",
              "      <td>59</td>\n",
              "      <td>12</td>\n",
              "      <td>1</td>\n",
              "      <td>1</td>\n",
              "    </tr>\n",
              "    <tr>\n",
              "      <th>3</th>\n",
              "      <td>0</td>\n",
              "      <td>117</td>\n",
              "      <td>100</td>\n",
              "      <td>4</td>\n",
              "      <td>466</td>\n",
              "      <td>97</td>\n",
              "      <td>2</td>\n",
              "      <td>55</td>\n",
              "      <td>14</td>\n",
              "      <td>1</td>\n",
              "      <td>1</td>\n",
              "    </tr>\n",
              "    <tr>\n",
              "      <th>4</th>\n",
              "      <td>0</td>\n",
              "      <td>141</td>\n",
              "      <td>64</td>\n",
              "      <td>3</td>\n",
              "      <td>340</td>\n",
              "      <td>128</td>\n",
              "      <td>0</td>\n",
              "      <td>38</td>\n",
              "      <td>13</td>\n",
              "      <td>1</td>\n",
              "      <td>0</td>\n",
              "    </tr>\n",
              "    <tr>\n",
              "      <th>...</th>\n",
              "      <td>...</td>\n",
              "      <td>...</td>\n",
              "      <td>...</td>\n",
              "      <td>...</td>\n",
              "      <td>...</td>\n",
              "      <td>...</td>\n",
              "      <td>...</td>\n",
              "      <td>...</td>\n",
              "      <td>...</td>\n",
              "      <td>...</td>\n",
              "      <td>...</td>\n",
              "    </tr>\n",
              "    <tr>\n",
              "      <th>395</th>\n",
              "      <td>1</td>\n",
              "      <td>138</td>\n",
              "      <td>108</td>\n",
              "      <td>17</td>\n",
              "      <td>203</td>\n",
              "      <td>128</td>\n",
              "      <td>1</td>\n",
              "      <td>33</td>\n",
              "      <td>14</td>\n",
              "      <td>1</td>\n",
              "      <td>1</td>\n",
              "    </tr>\n",
              "    <tr>\n",
              "      <th>396</th>\n",
              "      <td>0</td>\n",
              "      <td>139</td>\n",
              "      <td>23</td>\n",
              "      <td>3</td>\n",
              "      <td>37</td>\n",
              "      <td>120</td>\n",
              "      <td>2</td>\n",
              "      <td>55</td>\n",
              "      <td>11</td>\n",
              "      <td>0</td>\n",
              "      <td>1</td>\n",
              "    </tr>\n",
              "    <tr>\n",
              "      <th>397</th>\n",
              "      <td>0</td>\n",
              "      <td>162</td>\n",
              "      <td>26</td>\n",
              "      <td>12</td>\n",
              "      <td>368</td>\n",
              "      <td>159</td>\n",
              "      <td>2</td>\n",
              "      <td>40</td>\n",
              "      <td>18</td>\n",
              "      <td>1</td>\n",
              "      <td>1</td>\n",
              "    </tr>\n",
              "    <tr>\n",
              "      <th>398</th>\n",
              "      <td>0</td>\n",
              "      <td>100</td>\n",
              "      <td>79</td>\n",
              "      <td>7</td>\n",
              "      <td>284</td>\n",
              "      <td>95</td>\n",
              "      <td>0</td>\n",
              "      <td>50</td>\n",
              "      <td>12</td>\n",
              "      <td>1</td>\n",
              "      <td>1</td>\n",
              "    </tr>\n",
              "    <tr>\n",
              "      <th>399</th>\n",
              "      <td>1</td>\n",
              "      <td>134</td>\n",
              "      <td>37</td>\n",
              "      <td>0</td>\n",
              "      <td>27</td>\n",
              "      <td>120</td>\n",
              "      <td>1</td>\n",
              "      <td>49</td>\n",
              "      <td>16</td>\n",
              "      <td>1</td>\n",
              "      <td>1</td>\n",
              "    </tr>\n",
              "  </tbody>\n",
              "</table>\n",
              "<p>400 rows × 11 columns</p>\n",
              "</div>\n",
              "      <button class=\"colab-df-convert\" onclick=\"convertToInteractive('df-22866b3f-60c6-4701-9225-4059b03d0c9a')\"\n",
              "              title=\"Convert this dataframe to an interactive table.\"\n",
              "              style=\"display:none;\">\n",
              "        \n",
              "  <svg xmlns=\"http://www.w3.org/2000/svg\" height=\"24px\"viewBox=\"0 0 24 24\"\n",
              "       width=\"24px\">\n",
              "    <path d=\"M0 0h24v24H0V0z\" fill=\"none\"/>\n",
              "    <path d=\"M18.56 5.44l.94 2.06.94-2.06 2.06-.94-2.06-.94-.94-2.06-.94 2.06-2.06.94zm-11 1L8.5 8.5l.94-2.06 2.06-.94-2.06-.94L8.5 2.5l-.94 2.06-2.06.94zm10 10l.94 2.06.94-2.06 2.06-.94-2.06-.94-.94-2.06-.94 2.06-2.06.94z\"/><path d=\"M17.41 7.96l-1.37-1.37c-.4-.4-.92-.59-1.43-.59-.52 0-1.04.2-1.43.59L10.3 9.45l-7.72 7.72c-.78.78-.78 2.05 0 2.83L4 21.41c.39.39.9.59 1.41.59.51 0 1.02-.2 1.41-.59l7.78-7.78 2.81-2.81c.8-.78.8-2.07 0-2.86zM5.41 20L4 18.59l7.72-7.72 1.47 1.35L5.41 20z\"/>\n",
              "  </svg>\n",
              "      </button>\n",
              "      \n",
              "  <style>\n",
              "    .colab-df-container {\n",
              "      display:flex;\n",
              "      flex-wrap:wrap;\n",
              "      gap: 12px;\n",
              "    }\n",
              "\n",
              "    .colab-df-convert {\n",
              "      background-color: #E8F0FE;\n",
              "      border: none;\n",
              "      border-radius: 50%;\n",
              "      cursor: pointer;\n",
              "      display: none;\n",
              "      fill: #1967D2;\n",
              "      height: 32px;\n",
              "      padding: 0 0 0 0;\n",
              "      width: 32px;\n",
              "    }\n",
              "\n",
              "    .colab-df-convert:hover {\n",
              "      background-color: #E2EBFA;\n",
              "      box-shadow: 0px 1px 2px rgba(60, 64, 67, 0.3), 0px 1px 3px 1px rgba(60, 64, 67, 0.15);\n",
              "      fill: #174EA6;\n",
              "    }\n",
              "\n",
              "    [theme=dark] .colab-df-convert {\n",
              "      background-color: #3B4455;\n",
              "      fill: #D2E3FC;\n",
              "    }\n",
              "\n",
              "    [theme=dark] .colab-df-convert:hover {\n",
              "      background-color: #434B5C;\n",
              "      box-shadow: 0px 1px 3px 1px rgba(0, 0, 0, 0.15);\n",
              "      filter: drop-shadow(0px 1px 2px rgba(0, 0, 0, 0.3));\n",
              "      fill: #FFFFFF;\n",
              "    }\n",
              "  </style>\n",
              "\n",
              "      <script>\n",
              "        const buttonEl =\n",
              "          document.querySelector('#df-22866b3f-60c6-4701-9225-4059b03d0c9a button.colab-df-convert');\n",
              "        buttonEl.style.display =\n",
              "          google.colab.kernel.accessAllowed ? 'block' : 'none';\n",
              "\n",
              "        async function convertToInteractive(key) {\n",
              "          const element = document.querySelector('#df-22866b3f-60c6-4701-9225-4059b03d0c9a');\n",
              "          const dataTable =\n",
              "            await google.colab.kernel.invokeFunction('convertToInteractive',\n",
              "                                                     [key], {});\n",
              "          if (!dataTable) return;\n",
              "\n",
              "          const docLinkHtml = 'Like what you see? Visit the ' +\n",
              "            '<a target=\"_blank\" href=https://colab.research.google.com/notebooks/data_table.ipynb>data table notebook</a>'\n",
              "            + ' to learn more about interactive tables.';\n",
              "          element.innerHTML = '';\n",
              "          dataTable['output_type'] = 'display_data';\n",
              "          await google.colab.output.renderOutput(dataTable, element);\n",
              "          const docLink = document.createElement('div');\n",
              "          docLink.innerHTML = docLinkHtml;\n",
              "          element.appendChild(docLink);\n",
              "        }\n",
              "      </script>\n",
              "    </div>\n",
              "  </div>\n",
              "  "
            ]
          },
          "metadata": {},
          "execution_count": 71
        }
      ],
      "source": [
        "company_data.Sales.replace(('yes','no'),(1, 0),inplace=True)\n",
        "company_data.Urban.replace(('Yes','No'),(1, 0),inplace=True)\n",
        "company_data.US.replace(('Yes','No'),(1, 0),inplace=True)\n",
        "company_data"
      ]
    },
    {
      "cell_type": "code",
      "execution_count": 72,
      "id": "5984332e",
      "metadata": {
        "colab": {
          "base_uri": "https://localhost:8080/"
        },
        "id": "5984332e",
        "outputId": "7b7b812c-cdb3-44c2-b622-21b8f23d485c"
      },
      "outputs": [
        {
          "output_type": "execute_result",
          "data": {
            "text/plain": [
              "Sales          int64\n",
              "CompPrice      int64\n",
              "Income         int64\n",
              "Advertising    int64\n",
              "Population     int64\n",
              "Price          int64\n",
              "ShelveLoc      int64\n",
              "Age            int64\n",
              "Education      int64\n",
              "Urban          int64\n",
              "US             int64\n",
              "dtype: object"
            ]
          },
          "metadata": {},
          "execution_count": 72
        }
      ],
      "source": [
        "company_data.dtypes"
      ]
    },
    {
      "cell_type": "markdown",
      "id": "a0d8ebc9",
      "metadata": {
        "id": "a0d8ebc9"
      },
      "source": [
        "### Model Building"
      ]
    },
    {
      "cell_type": "code",
      "execution_count": 73,
      "id": "a98df96e",
      "metadata": {
        "id": "a98df96e"
      },
      "outputs": [],
      "source": [
        "x=pd.concat([company_data.iloc[:,1:]])\n",
        "y=company_data.iloc[:,0]"
      ]
    },
    {
      "cell_type": "code",
      "execution_count": 74,
      "id": "04110cb5",
      "metadata": {
        "id": "04110cb5"
      },
      "outputs": [],
      "source": [
        "x_train,x_test,y_train,y_test=train_test_split(x,y,random_state=123,test_size=0.20)"
      ]
    },
    {
      "cell_type": "code",
      "execution_count": 75,
      "id": "a1e981f8",
      "metadata": {
        "colab": {
          "base_uri": "https://localhost:8080/"
        },
        "id": "a1e981f8",
        "outputId": "2ec0c090-efa2-446d-e2ba-035a5879ce76"
      },
      "outputs": [
        {
          "output_type": "stream",
          "name": "stdout",
          "text": [
            "(320, 10)\n",
            "(80, 10)\n",
            "(320,)\n",
            "(80,)\n"
          ]
        }
      ],
      "source": [
        "print(x_train.shape)\n",
        "print(x_test.shape)\n",
        "print(y_train.shape)\n",
        "print(y_test.shape)"
      ]
    },
    {
      "cell_type": "markdown",
      "id": "b82cac35",
      "metadata": {
        "id": "b82cac35"
      },
      "source": [
        "### Model Training"
      ]
    },
    {
      "cell_type": "code",
      "execution_count": 76,
      "id": "43d4c582",
      "metadata": {
        "id": "43d4c582"
      },
      "outputs": [],
      "source": [
        "dt_model=DecisionTreeClassifier(criterion='gini',max_depth=3)"
      ]
    },
    {
      "cell_type": "code",
      "execution_count": 77,
      "id": "0053dfbf",
      "metadata": {
        "colab": {
          "base_uri": "https://localhost:8080/"
        },
        "id": "0053dfbf",
        "outputId": "abff557b-e33c-4067-9c2a-0c0219a6761a"
      },
      "outputs": [
        {
          "output_type": "execute_result",
          "data": {
            "text/plain": [
              "DecisionTreeClassifier(max_depth=3)"
            ]
          },
          "metadata": {},
          "execution_count": 77
        }
      ],
      "source": [
        "dt_model.fit(x_train,y_train)"
      ]
    },
    {
      "cell_type": "markdown",
      "id": "d712ee16",
      "metadata": {
        "id": "d712ee16"
      },
      "source": [
        "### Model Testing"
      ]
    },
    {
      "cell_type": "code",
      "execution_count": 78,
      "id": "9bcecbda",
      "metadata": {
        "colab": {
          "base_uri": "https://localhost:8080/"
        },
        "id": "9bcecbda",
        "outputId": "bd0df0b6-0c9e-41e8-b158-1559f76c0764"
      },
      "outputs": [
        {
          "output_type": "execute_result",
          "data": {
            "text/plain": [
              "array([1, 0, 0, 0, 1, 1, 1, 1, 1, 0, 1, 1, 1, 0, 0, 0, 0, 0, 1, 0, 1, 0,\n",
              "       0, 0, 0, 0, 0, 0, 1, 1, 1, 1, 0, 0, 0, 0, 0, 1, 0, 1, 0, 1, 1, 0,\n",
              "       1, 1, 0, 0, 0, 0, 0, 1, 1, 0, 1, 0, 1, 0, 0, 1, 0, 0, 1, 0, 0, 1,\n",
              "       1, 0, 1, 0, 0, 0, 1, 1, 1, 0, 1, 0, 1, 0, 0, 0, 0, 0, 0, 0, 0, 0,\n",
              "       0, 1, 0, 0, 0, 1, 0, 1, 1, 1, 0, 0, 1, 0, 1, 1, 1, 0, 1, 0, 1, 0,\n",
              "       0, 0, 1, 1, 1, 0, 0, 0, 0, 0, 0, 0, 0, 0, 1, 0, 1, 0, 0, 1, 0, 1,\n",
              "       0, 1, 0, 1, 1, 0, 0, 1, 1, 1, 1, 1, 0, 1, 0, 0, 1, 1, 1, 1, 0, 1,\n",
              "       1, 0, 0, 0, 1, 0, 1, 0, 0, 0, 0, 0, 0, 0, 1, 0, 0, 0, 1, 0, 0, 1,\n",
              "       0, 0, 1, 0, 0, 0, 0, 0, 1, 0, 0, 1, 0, 1, 0, 1, 0, 0, 0, 0, 1, 0,\n",
              "       0, 0, 0, 0, 0, 0, 1, 0, 1, 1, 0, 1, 1, 1, 0, 0, 0, 1, 1, 1, 0, 0,\n",
              "       1, 0, 0, 0, 0, 1, 0, 1, 1, 0, 1, 0, 1, 0, 1, 0, 1, 1, 1, 0, 1, 1,\n",
              "       1, 0, 1, 1, 0, 0, 0, 1, 0, 1, 1, 0, 0, 0, 1, 0, 1, 1, 1, 0, 0, 0,\n",
              "       0, 0, 0, 1, 1, 1, 1, 0, 0, 1, 1, 1, 0, 0, 1, 0, 0, 1, 0, 1, 1, 1,\n",
              "       1, 0, 1, 0, 0, 1, 0, 1, 1, 1, 1, 0, 0, 0, 1, 0, 1, 1, 0, 0, 0, 1,\n",
              "       0, 0, 0, 0, 0, 0, 1, 0, 1, 1, 1, 0])"
            ]
          },
          "metadata": {},
          "execution_count": 78
        }
      ],
      "source": [
        "y_train_pred=dt_model.predict(x_train)\n",
        "y_train_pred"
      ]
    },
    {
      "cell_type": "code",
      "execution_count": 79,
      "id": "2b6284fd",
      "metadata": {
        "colab": {
          "base_uri": "https://localhost:8080/"
        },
        "id": "2b6284fd",
        "outputId": "bbb08107-4761-47af-da5f-5f6e21f39fe9"
      },
      "outputs": [
        {
          "output_type": "execute_result",
          "data": {
            "text/plain": [
              "array([1, 1, 1, 1, 1, 1, 1, 1, 0, 1, 0, 0, 0, 1, 1, 0, 1, 0, 0, 0, 0, 1,\n",
              "       0, 1, 0, 0, 0, 0, 0, 1, 1, 0, 0, 1, 1, 0, 0, 1, 0, 1, 1, 1, 0, 1,\n",
              "       0, 0, 1, 0, 1, 0, 1, 0, 1, 1, 0, 0, 1, 0, 0, 0, 1, 0, 0, 1, 1, 1,\n",
              "       0, 1, 0, 1, 0, 0, 0, 0, 1, 0, 0, 1, 1, 0])"
            ]
          },
          "metadata": {},
          "execution_count": 79
        }
      ],
      "source": [
        "y_test_pred=dt_model.predict(x_test)\n",
        "y_test_pred"
      ]
    },
    {
      "cell_type": "markdown",
      "id": "4255daaf",
      "metadata": {
        "id": "4255daaf"
      },
      "source": [
        "### Model Evaluation"
      ]
    },
    {
      "cell_type": "markdown",
      "id": "c278a8c8",
      "metadata": {
        "id": "c278a8c8"
      },
      "source": [
        "Training accuracy"
      ]
    },
    {
      "cell_type": "code",
      "execution_count": 80,
      "id": "95630226",
      "metadata": {
        "colab": {
          "base_uri": "https://localhost:8080/"
        },
        "id": "95630226",
        "outputId": "7347d4c7-eaa3-4a62-b307-b5ba9ed34375"
      },
      "outputs": [
        {
          "output_type": "stream",
          "name": "stdout",
          "text": [
            "              precision    recall  f1-score   support\n",
            "\n",
            "           0       0.84      0.79      0.81       195\n",
            "           1       0.70      0.77      0.73       125\n",
            "\n",
            "    accuracy                           0.78       320\n",
            "   macro avg       0.77      0.78      0.77       320\n",
            "weighted avg       0.79      0.78      0.78       320\n",
            "\n"
          ]
        }
      ],
      "source": [
        "print(classification_report(y_train,y_train_pred))  "
      ]
    },
    {
      "cell_type": "code",
      "execution_count": 81,
      "id": "546302bb",
      "metadata": {
        "colab": {
          "base_uri": "https://localhost:8080/"
        },
        "id": "546302bb",
        "outputId": "b03a2b99-9001-4db3-c9ef-46ae9b5fa386"
      },
      "outputs": [
        {
          "output_type": "stream",
          "name": "stdout",
          "text": [
            "[[154  41]\n",
            " [ 29  96]]\n"
          ]
        }
      ],
      "source": [
        "print(confusion_matrix(y_train,y_train_pred))"
      ]
    },
    {
      "cell_type": "code",
      "execution_count": 82,
      "id": "f8573241",
      "metadata": {
        "colab": {
          "base_uri": "https://localhost:8080/",
          "height": 314
        },
        "id": "f8573241",
        "outputId": "d5e2d2f5-9e24-4e92-f352-50ef8127c769"
      },
      "outputs": [
        {
          "output_type": "stream",
          "name": "stdout",
          "text": [
            "0.7788717948717948\n"
          ]
        },
        {
          "output_type": "execute_result",
          "data": {
            "text/plain": [
              "Text(0, 0.5, 'True Positive Rate')"
            ]
          },
          "metadata": {},
          "execution_count": 82
        },
        {
          "output_type": "display_data",
          "data": {
            "text/plain": [
              "<Figure size 432x288 with 1 Axes>"
            ],
            "image/png": "[encoded data removed]"
          },
          "metadata": {
            "needs_background": "light"
          }
        }
      ],
      "source": [
        "fpr, tpr, thresholds = roc_curve(y,dt_model.predict_proba (x)[:,1])\n",
        "auc = roc_auc_score(y_train,y_train_pred)\n",
        "print(auc)\n",
        "plt.plot(fpr, tpr, color='red', label='dt model ( area  = %0.2f)'%auc)\n",
        "plt.plot([0, 1], [0, 1], 'k--')\n",
        "plt.xlabel('False Positive Rate or [1 - True Negative Rate]')\n",
        "plt.ylabel('True Positive Rate')"
      ]
    },
    {
      "cell_type": "markdown",
      "id": "f8db4d06",
      "metadata": {
        "id": "f8db4d06"
      },
      "source": [
        "Test Accuracy"
      ]
    },
    {
      "cell_type": "code",
      "execution_count": 83,
      "id": "dec5a81e",
      "metadata": {
        "colab": {
          "base_uri": "https://localhost:8080/"
        },
        "id": "dec5a81e",
        "outputId": "651e3007-83ac-4a90-b2cb-08391f3262a8"
      },
      "outputs": [
        {
          "output_type": "stream",
          "name": "stdout",
          "text": [
            "              precision    recall  f1-score   support\n",
            "\n",
            "           0       0.67      0.68      0.67        41\n",
            "           1       0.66      0.64      0.65        39\n",
            "\n",
            "    accuracy                           0.66        80\n",
            "   macro avg       0.66      0.66      0.66        80\n",
            "weighted avg       0.66      0.66      0.66        80\n",
            "\n"
          ]
        }
      ],
      "source": [
        "print(classification_report(y_test,y_test_pred)) "
      ]
    },
    {
      "cell_type": "code",
      "execution_count": 84,
      "id": "2141fa34",
      "metadata": {
        "colab": {
          "base_uri": "https://localhost:8080/"
        },
        "id": "2141fa34",
        "outputId": "c0bdefdd-4cff-4dbe-b5c0-f2350eb55f3d"
      },
      "outputs": [
        {
          "output_type": "stream",
          "name": "stdout",
          "text": [
            "[[28 13]\n",
            " [14 25]]\n"
          ]
        }
      ],
      "source": [
        "print(confusion_matrix(y_test,y_test_pred))"
      ]
    },
    {
      "cell_type": "code",
      "execution_count": 85,
      "id": "1f69f543",
      "metadata": {
        "colab": {
          "base_uri": "https://localhost:8080/",
          "height": 314
        },
        "id": "1f69f543",
        "outputId": "b3922f57-4966-4115-ea24-7b86d71d7c1d"
      },
      "outputs": [
        {
          "output_type": "stream",
          "name": "stdout",
          "text": [
            "0.6619762351469668\n"
          ]
        },
        {
          "output_type": "execute_result",
          "data": {
            "text/plain": [
              "Text(0, 0.5, 'True Positive Rate')"
            ]
          },
          "metadata": {},
          "execution_count": 85
        },
        {
          "output_type": "display_data",
          "data": {
            "text/plain": [
              "<Figure size 432x288 with 1 Axes>"
            ],
            "image/png": "[encoded data removed]"
          },
          "metadata": {
            "needs_background": "light"
          }
        }
      ],
      "source": [
        "fpr, tpr, thresholds = roc_curve(y,dt_model.predict_proba (x)[:,1])\n",
        "auc = roc_auc_score(y_test,y_test_pred)\n",
        "print(auc)\n",
        "plt.plot(fpr, tpr, color='red', label='dt model ( area  = %0.2f)'%auc)\n",
        "plt.plot([0, 1], [0, 1], 'k--')\n",
        "plt.xlabel('False Positive Rate or [1 - True Negative Rate]')\n",
        "plt.ylabel('True Positive Rate')"
      ]
    },
    {
      "cell_type": "code",
      "execution_count": 86,
      "id": "34112f34",
      "metadata": {
        "colab": {
          "base_uri": "https://localhost:8080/",
          "height": 575
        },
        "id": "34112f34",
        "outputId": "63b3e7b3-4af7-4062-c553-25b089be24ad"
      },
      "outputs": [
        {
          "output_type": "display_data",
          "data": {
            "text/plain": [
              "<Figure size 1152x720 with 1 Axes>"
            ],
            "image/png": "[encoded data removed]"
          },
          "metadata": {
            "needs_background": "light"
          }
        }
      ],
      "source": [
        "# Apply the decision tree classifier model to the data with a maximum tree depth of 3\n",
        "model = DecisionTreeClassifier(max_depth=3).fit(x_train,y_train)\n",
        "# Prepare a plot figure with set size.\n",
        "plt.figure(figsize = (16,10))\n",
        "# Plot the decision tree.\n",
        "plot_tree(model, rounded = True,filled = True)\n",
        "# Display the tree plot figure.\n",
        "plt.show()"
      ]
    },
    {
      "cell_type": "raw",
      "id": "02ba424d",
      "metadata": {
        "id": "02ba424d"
      },
      "source": [
        "Training Accuracy 78% \n",
        "Testing Accuracy 66%"
      ]
    },
    {
      "cell_type": "markdown",
      "id": "7ccd68a5",
      "metadata": {
        "id": "7ccd68a5"
      },
      "source": [
        "# Fraud check dataset"
      ]
    },
    {
      "cell_type": "markdown",
      "id": "091d51cb",
      "metadata": {
        "id": "091d51cb"
      },
      "source": [
        "Use decision trees to prepare a model on fraud data treating those who have taxable_income <= 30000 as \"Risky\" and others are \"Good\"\n",
        "\n",
        "Data Description :\n",
        "\n",
        "Undergrad : person is under graduated or not Marital.Status : marital status of a person Taxable.Income : Taxable income is the amount of how much tax an individual owes to the government Work Experience : Work experience of an individual person Urban : Whether that person belongs to urban area or not"
      ]
    },
    {
      "cell_type": "code",
      "execution_count": 87,
      "id": "0f993a9c",
      "metadata": {
        "id": "0f993a9c"
      },
      "outputs": [],
      "source": [
        "fdata=pd.read_csv(r'/content/Fraud_check.csv')"
      ]
    },
    {
      "cell_type": "code",
      "execution_count": 88,
      "id": "15b0b760",
      "metadata": {
        "colab": {
          "base_uri": "https://localhost:8080/",
          "height": 206
        },
        "id": "15b0b760",
        "outputId": "af77d108-c78b-44fc-b8ce-601d574e8654"
      },
      "outputs": [
        {
          "output_type": "execute_result",
          "data": {
            "text/plain": [
              "  Undergrad Marital.Status  Taxable.Income  City.Population  Work.Experience  \\\n",
              "0        NO         Single           68833            50047               10   \n",
              "1       YES       Divorced           33700           134075               18   \n",
              "2        NO        Married           36925           160205               30   \n",
              "3       YES         Single           50190           193264               15   \n",
              "4        NO        Married           81002            27533               28   \n",
              "\n",
              "  Urban  \n",
              "0   YES  \n",
              "1   YES  \n",
              "2   YES  \n",
              "3   YES  \n",
              "4    NO  "
            ],
            "text/html": [
              "\n",
              "  <div id=\"df-71386e6a-cf87-491a-b836-b4616bd7c35d\">\n",
              "    <div class=\"colab-df-container\">\n",
              "      <div>\n",
              "<style scoped>\n",
              "    .dataframe tbody tr th:only-of-type {\n",
              "        vertical-align: middle;\n",
              "    }\n",
              "\n",
              "    .dataframe tbody tr th {\n",
              "        vertical-align: top;\n",
              "    }\n",
              "\n",
              "    .dataframe thead th {\n",
              "        text-align: right;\n",
              "    }\n",
              "</style>\n",
              "<table border=\"1\" class=\"dataframe\">\n",
              "  <thead>\n",
              "    <tr style=\"text-align: right;\">\n",
              "      <th></th>\n",
              "      <th>Undergrad</th>\n",
              "      <th>Marital.Status</th>\n",
              "      <th>Taxable.Income</th>\n",
              "      <th>City.Population</th>\n",
              "      <th>Work.Experience</th>\n",
              "      <th>Urban</th>\n",
              "    </tr>\n",
              "  </thead>\n",
              "  <tbody>\n",
              "    <tr>\n",
              "      <th>0</th>\n",
              "      <td>NO</td>\n",
              "      <td>Single</td>\n",
              "      <td>68833</td>\n",
              "      <td>50047</td>\n",
              "      <td>10</td>\n",
              "      <td>YES</td>\n",
              "    </tr>\n",
              "    <tr>\n",
              "      <th>1</th>\n",
              "      <td>YES</td>\n",
              "      <td>Divorced</td>\n",
              "      <td>33700</td>\n",
              "      <td>134075</td>\n",
              "      <td>18</td>\n",
              "      <td>YES</td>\n",
              "    </tr>\n",
              "    <tr>\n",
              "      <th>2</th>\n",
              "      <td>NO</td>\n",
              "      <td>Married</td>\n",
              "      <td>36925</td>\n",
              "      <td>160205</td>\n",
              "      <td>30</td>\n",
              "      <td>YES</td>\n",
              "    </tr>\n",
              "    <tr>\n",
              "      <th>3</th>\n",
              "      <td>YES</td>\n",
              "      <td>Single</td>\n",
              "      <td>50190</td>\n",
              "      <td>193264</td>\n",
              "      <td>15</td>\n",
              "      <td>YES</td>\n",
              "    </tr>\n",
              "    <tr>\n",
              "      <th>4</th>\n",
              "      <td>NO</td>\n",
              "      <td>Married</td>\n",
              "      <td>81002</td>\n",
              "      <td>27533</td>\n",
              "      <td>28</td>\n",
              "      <td>NO</td>\n",
              "    </tr>\n",
              "  </tbody>\n",
              "</table>\n",
              "</div>\n",
              "      <button class=\"colab-df-convert\" onclick=\"convertToInteractive('df-71386e6a-cf87-491a-b836-b4616bd7c35d')\"\n",
              "              title=\"Convert this dataframe to an interactive table.\"\n",
              "              style=\"display:none;\">\n",
              "        \n",
              "  <svg xmlns=\"http://www.w3.org/2000/svg\" height=\"24px\"viewBox=\"0 0 24 24\"\n",
              "       width=\"24px\">\n",
              "    <path d=\"M0 0h24v24H0V0z\" fill=\"none\"/>\n",
              "    <path d=\"M18.56 5.44l.94 2.06.94-2.06 2.06-.94-2.06-.94-.94-2.06-.94 2.06-2.06.94zm-11 1L8.5 8.5l.94-2.06 2.06-.94-2.06-.94L8.5 2.5l-.94 2.06-2.06.94zm10 10l.94 2.06.94-2.06 2.06-.94-2.06-.94-.94-2.06-.94 2.06-2.06.94z\"/><path d=\"M17.41 7.96l-1.37-1.37c-.4-.4-.92-.59-1.43-.59-.52 0-1.04.2-1.43.59L10.3 9.45l-7.72 7.72c-.78.78-.78 2.05 0 2.83L4 21.41c.39.39.9.59 1.41.59.51 0 1.02-.2 1.41-.59l7.78-7.78 2.81-2.81c.8-.78.8-2.07 0-2.86zM5.41 20L4 18.59l7.72-7.72 1.47 1.35L5.41 20z\"/>\n",
              "  </svg>\n",
              "      </button>\n",
              "      \n",
              "  <style>\n",
              "    .colab-df-container {\n",
              "      display:flex;\n",
              "      flex-wrap:wrap;\n",
              "      gap: 12px;\n",
              "    }\n",
              "\n",
              "    .colab-df-convert {\n",
              "      background-color: #E8F0FE;\n",
              "      border: none;\n",
              "      border-radius: 50%;\n",
              "      cursor: pointer;\n",
              "      display: none;\n",
              "      fill: #1967D2;\n",
              "      height: 32px;\n",
              "      padding: 0 0 0 0;\n",
              "      width: 32px;\n",
              "    }\n",
              "\n",
              "    .colab-df-convert:hover {\n",
              "      background-color: #E2EBFA;\n",
              "      box-shadow: 0px 1px 2px rgba(60, 64, 67, 0.3), 0px 1px 3px 1px rgba(60, 64, 67, 0.15);\n",
              "      fill: #174EA6;\n",
              "    }\n",
              "\n",
              "    [theme=dark] .colab-df-convert {\n",
              "      background-color: #3B4455;\n",
              "      fill: #D2E3FC;\n",
              "    }\n",
              "\n",
              "    [theme=dark] .colab-df-convert:hover {\n",
              "      background-color: #434B5C;\n",
              "      box-shadow: 0px 1px 3px 1px rgba(0, 0, 0, 0.15);\n",
              "      filter: drop-shadow(0px 1px 2px rgba(0, 0, 0, 0.3));\n",
              "      fill: #FFFFFF;\n",
              "    }\n",
              "  </style>\n",
              "\n",
              "      <script>\n",
              "        const buttonEl =\n",
              "          document.querySelector('#df-71386e6a-cf87-491a-b836-b4616bd7c35d button.colab-df-convert');\n",
              "        buttonEl.style.display =\n",
              "          google.colab.kernel.accessAllowed ? 'block' : 'none';\n",
              "\n",
              "        async function convertToInteractive(key) {\n",
              "          const element = document.querySelector('#df-71386e6a-cf87-491a-b836-b4616bd7c35d');\n",
              "          const dataTable =\n",
              "            await google.colab.kernel.invokeFunction('convertToInteractive',\n",
              "                                                     [key], {});\n",
              "          if (!dataTable) return;\n",
              "\n",
              "          const docLinkHtml = 'Like what you see? Visit the ' +\n",
              "            '<a target=\"_blank\" href=https://colab.research.google.com/notebooks/data_table.ipynb>data table notebook</a>'\n",
              "            + ' to learn more about interactive tables.';\n",
              "          element.innerHTML = '';\n",
              "          dataTable['output_type'] = 'display_data';\n",
              "          await google.colab.output.renderOutput(dataTable, element);\n",
              "          const docLink = document.createElement('div');\n",
              "          docLink.innerHTML = docLinkHtml;\n",
              "          element.appendChild(docLink);\n",
              "        }\n",
              "      </script>\n",
              "    </div>\n",
              "  </div>\n",
              "  "
            ]
          },
          "metadata": {},
          "execution_count": 88
        }
      ],
      "source": [
        "fdata.head()"
      ]
    },
    {
      "cell_type": "markdown",
      "id": "bedab2ec",
      "metadata": {
        "id": "bedab2ec"
      },
      "source": [
        "### Initial Investigation"
      ]
    },
    {
      "cell_type": "code",
      "execution_count": 89,
      "id": "4e606f58",
      "metadata": {
        "colab": {
          "base_uri": "https://localhost:8080/"
        },
        "id": "4e606f58",
        "outputId": "3021a1fa-2e31-4e20-fe72-e084466ba784"
      },
      "outputs": [
        {
          "output_type": "execute_result",
          "data": {
            "text/plain": [
              "(600, 6)"
            ]
          },
          "metadata": {},
          "execution_count": 89
        }
      ],
      "source": [
        "fdata.shape"
      ]
    },
    {
      "cell_type": "code",
      "execution_count": 90,
      "id": "698c240a",
      "metadata": {
        "colab": {
          "base_uri": "https://localhost:8080/"
        },
        "id": "698c240a",
        "outputId": "8c67a04c-876d-4353-a625-42aef0770d55"
      },
      "outputs": [
        {
          "output_type": "stream",
          "name": "stdout",
          "text": [
            "<class 'pandas.core.frame.DataFrame'>\n",
            "RangeIndex: 600 entries, 0 to 599\n",
            "Data columns (total 6 columns):\n",
            " #   Column           Non-Null Count  Dtype \n",
            "---  ------           --------------  ----- \n",
            " 0   Undergrad        600 non-null    object\n",
            " 1   Marital.Status   600 non-null    object\n",
            " 2   Taxable.Income   600 non-null    int64 \n",
            " 3   City.Population  600 non-null    int64 \n",
            " 4   Work.Experience  600 non-null    int64 \n",
            " 5   Urban            600 non-null    object\n",
            "dtypes: int64(3), object(3)\n",
            "memory usage: 28.2+ KB\n"
          ]
        }
      ],
      "source": [
        "fdata.info()"
      ]
    },
    {
      "cell_type": "code",
      "execution_count": 91,
      "id": "6d093db0",
      "metadata": {
        "colab": {
          "base_uri": "https://localhost:8080/"
        },
        "id": "6d093db0",
        "outputId": "78db5c21-a53b-49d7-bf48-121f3a783487"
      },
      "outputs": [
        {
          "output_type": "execute_result",
          "data": {
            "text/plain": [
              "Undergrad          0\n",
              "Marital.Status     0\n",
              "Taxable.Income     0\n",
              "City.Population    0\n",
              "Work.Experience    0\n",
              "Urban              0\n",
              "dtype: int64"
            ]
          },
          "metadata": {},
          "execution_count": 91
        }
      ],
      "source": [
        "fdata.isnull().sum()"
      ]
    },
    {
      "cell_type": "code",
      "execution_count": 92,
      "id": "466f94d1",
      "metadata": {
        "colab": {
          "base_uri": "https://localhost:8080/",
          "height": 279
        },
        "id": "466f94d1",
        "outputId": "f1bd4b19-d766-443e-ea0f-bc6634915d54"
      },
      "outputs": [
        {
          "output_type": "display_data",
          "data": {
            "text/plain": [
              "<Figure size 432x288 with 1 Axes>"
            ],
            "image/png": "[encoded data removed]"
          },
          "metadata": {
            "needs_background": "light"
          }
        }
      ],
      "source": [
        "ax = sns.boxplot(fdata['Taxable.Income'])"
      ]
    },
    {
      "cell_type": "markdown",
      "id": "fbab7330",
      "metadata": {
        "id": "fbab7330"
      },
      "source": [
        "There are no outliers in the data"
      ]
    },
    {
      "cell_type": "code",
      "execution_count": 93,
      "id": "5d38576a",
      "metadata": {
        "id": "5d38576a"
      },
      "outputs": [],
      "source": [
        "num_columnss = fdata.select_dtypes(exclude='object').columns.tolist()"
      ]
    },
    {
      "cell_type": "code",
      "execution_count": 94,
      "id": "e2e725d7",
      "metadata": {
        "colab": {
          "base_uri": "https://localhost:8080/",
          "height": 1000
        },
        "id": "e2e725d7",
        "outputId": "48266f60-dc83-4cb7-da1a-0c6773ed9ba8"
      },
      "outputs": [
        {
          "output_type": "display_data",
          "data": {
            "text/plain": [
              "<Figure size 1296x2880 with 6 Axes>"
            ],
            "image/png": "[encoded data removed]"
          },
          "metadata": {
            "needs_background": "light"
          }
        },
        {
          "output_type": "execute_result",
          "data": {
            "text/plain": [
              "          Taxable.Income  City.Population  Work.Experience\n",
              "skewness        0.030015         0.125009         0.018529\n",
              "kurtosis       -1.199782        -1.120154        -1.167524"
            ],
            "text/html": [
              "\n",
              "  <div id=\"df-f0c79154-c063-4dc5-90db-708f14bede91\">\n",
              "    <div class=\"colab-df-container\">\n",
              "      <div>\n",
              "<style scoped>\n",
              "    .dataframe tbody tr th:only-of-type {\n",
              "        vertical-align: middle;\n",
              "    }\n",
              "\n",
              "    .dataframe tbody tr th {\n",
              "        vertical-align: top;\n",
              "    }\n",
              "\n",
              "    .dataframe thead th {\n",
              "        text-align: right;\n",
              "    }\n",
              "</style>\n",
              "<table border=\"1\" class=\"dataframe\">\n",
              "  <thead>\n",
              "    <tr style=\"text-align: right;\">\n",
              "      <th></th>\n",
              "      <th>Taxable.Income</th>\n",
              "      <th>City.Population</th>\n",
              "      <th>Work.Experience</th>\n",
              "    </tr>\n",
              "  </thead>\n",
              "  <tbody>\n",
              "    <tr>\n",
              "      <th>skewness</th>\n",
              "      <td>0.030015</td>\n",
              "      <td>0.125009</td>\n",
              "      <td>0.018529</td>\n",
              "    </tr>\n",
              "    <tr>\n",
              "      <th>kurtosis</th>\n",
              "      <td>-1.199782</td>\n",
              "      <td>-1.120154</td>\n",
              "      <td>-1.167524</td>\n",
              "    </tr>\n",
              "  </tbody>\n",
              "</table>\n",
              "</div>\n",
              "      <button class=\"colab-df-convert\" onclick=\"convertToInteractive('df-f0c79154-c063-4dc5-90db-708f14bede91')\"\n",
              "              title=\"Convert this dataframe to an interactive table.\"\n",
              "              style=\"display:none;\">\n",
              "        \n",
              "  <svg xmlns=\"http://www.w3.org/2000/svg\" height=\"24px\"viewBox=\"0 0 24 24\"\n",
              "       width=\"24px\">\n",
              "    <path d=\"M0 0h24v24H0V0z\" fill=\"none\"/>\n",
              "    <path d=\"M18.56 5.44l.94 2.06.94-2.06 2.06-.94-2.06-.94-.94-2.06-.94 2.06-2.06.94zm-11 1L8.5 8.5l.94-2.06 2.06-.94-2.06-.94L8.5 2.5l-.94 2.06-2.06.94zm10 10l.94 2.06.94-2.06 2.06-.94-2.06-.94-.94-2.06-.94 2.06-2.06.94z\"/><path d=\"M17.41 7.96l-1.37-1.37c-.4-.4-.92-.59-1.43-.59-.52 0-1.04.2-1.43.59L10.3 9.45l-7.72 7.72c-.78.78-.78 2.05 0 2.83L4 21.41c.39.39.9.59 1.41.59.51 0 1.02-.2 1.41-.59l7.78-7.78 2.81-2.81c.8-.78.8-2.07 0-2.86zM5.41 20L4 18.59l7.72-7.72 1.47 1.35L5.41 20z\"/>\n",
              "  </svg>\n",
              "      </button>\n",
              "      \n",
              "  <style>\n",
              "    .colab-df-container {\n",
              "      display:flex;\n",
              "      flex-wrap:wrap;\n",
              "      gap: 12px;\n",
              "    }\n",
              "\n",
              "    .colab-df-convert {\n",
              "      background-color: #E8F0FE;\n",
              "      border: none;\n",
              "      border-radius: 50%;\n",
              "      cursor: pointer;\n",
              "      display: none;\n",
              "      fill: #1967D2;\n",
              "      height: 32px;\n",
              "      padding: 0 0 0 0;\n",
              "      width: 32px;\n",
              "    }\n",
              "\n",
              "    .colab-df-convert:hover {\n",
              "      background-color: #E2EBFA;\n",
              "      box-shadow: 0px 1px 2px rgba(60, 64, 67, 0.3), 0px 1px 3px 1px rgba(60, 64, 67, 0.15);\n",
              "      fill: #174EA6;\n",
              "    }\n",
              "\n",
              "    [theme=dark] .colab-df-convert {\n",
              "      background-color: #3B4455;\n",
              "      fill: #D2E3FC;\n",
              "    }\n",
              "\n",
              "    [theme=dark] .colab-df-convert:hover {\n",
              "      background-color: #434B5C;\n",
              "      box-shadow: 0px 1px 3px 1px rgba(0, 0, 0, 0.15);\n",
              "      filter: drop-shadow(0px 1px 2px rgba(0, 0, 0, 0.3));\n",
              "      fill: #FFFFFF;\n",
              "    }\n",
              "  </style>\n",
              "\n",
              "      <script>\n",
              "        const buttonEl =\n",
              "          document.querySelector('#df-f0c79154-c063-4dc5-90db-708f14bede91 button.colab-df-convert');\n",
              "        buttonEl.style.display =\n",
              "          google.colab.kernel.accessAllowed ? 'block' : 'none';\n",
              "\n",
              "        async function convertToInteractive(key) {\n",
              "          const element = document.querySelector('#df-f0c79154-c063-4dc5-90db-708f14bede91');\n",
              "          const dataTable =\n",
              "            await google.colab.kernel.invokeFunction('convertToInteractive',\n",
              "                                                     [key], {});\n",
              "          if (!dataTable) return;\n",
              "\n",
              "          const docLinkHtml = 'Like what you see? Visit the ' +\n",
              "            '<a target=\"_blank\" href=https://colab.research.google.com/notebooks/data_table.ipynb>data table notebook</a>'\n",
              "            + ' to learn more about interactive tables.';\n",
              "          element.innerHTML = '';\n",
              "          dataTable['output_type'] = 'display_data';\n",
              "          await google.colab.output.renderOutput(dataTable, element);\n",
              "          const docLink = document.createElement('div');\n",
              "          docLink.innerHTML = docLinkHtml;\n",
              "          element.appendChild(docLink);\n",
              "        }\n",
              "      </script>\n",
              "    </div>\n",
              "  </div>\n",
              "  "
            ]
          },
          "metadata": {},
          "execution_count": 94
        }
      ],
      "source": [
        "plt.figure(figsize=(18,40))\n",
        "for i,col in enumerate(num_columnss,1):\n",
        "    plt.subplot(8,4,i)\n",
        "    sns.kdeplot(fdata[col],color='b',shade=True)\n",
        "    plt.subplot(8,4,i+10)\n",
        "    fdata[col].plot.box()\n",
        "plt.tight_layout() \n",
        "plt.show()\n",
        "num_dataa = fdata[num_columnss]\n",
        "pd.DataFrame(data=[num_dataa.skew(),num_dataa.kurtosis()],index=['skewness','kurtosis'])"
      ]
    },
    {
      "cell_type": "markdown",
      "id": "7a4face7",
      "metadata": {
        "id": "7a4face7"
      },
      "source": [
        "As the skewness is less than 2 we can proceed for further analysis"
      ]
    },
    {
      "cell_type": "markdown",
      "id": "0be2a1fd",
      "metadata": {
        "id": "0be2a1fd"
      },
      "source": [
        "### Data Preprocessing"
      ]
    },
    {
      "cell_type": "code",
      "execution_count": 95,
      "id": "ac8ac9b9",
      "metadata": {
        "id": "ac8ac9b9"
      },
      "outputs": [],
      "source": [
        "for i in range(len(fdata['Taxable.Income'])):\n",
        "    if fdata['Taxable.Income'][i] <= 30000:\n",
        "        fdata['Taxable.Income'][i] = 'risky'\n",
        "    else:\n",
        "        fdata['Taxable.Income'][i] = 'good'"
      ]
    },
    {
      "cell_type": "code",
      "execution_count": 96,
      "id": "7b9f61a2",
      "metadata": {
        "colab": {
          "base_uri": "https://localhost:8080/",
          "height": 206
        },
        "id": "7b9f61a2",
        "outputId": "f4712ed4-49e8-489d-b441-7310126b76f7"
      },
      "outputs": [
        {
          "output_type": "execute_result",
          "data": {
            "text/plain": [
              "  Undergrad Marital.Status Taxable.Income  City.Population  Work.Experience  \\\n",
              "0        NO         Single           good            50047               10   \n",
              "1       YES       Divorced           good           134075               18   \n",
              "2        NO        Married           good           160205               30   \n",
              "3       YES         Single           good           193264               15   \n",
              "4        NO        Married           good            27533               28   \n",
              "\n",
              "  Urban  \n",
              "0   YES  \n",
              "1   YES  \n",
              "2   YES  \n",
              "3   YES  \n",
              "4    NO  "
            ],
            "text/html": [
              "\n",
              "  <div id=\"df-2450b3dd-626f-4cc0-bfcc-e8f00852d33a\">\n",
              "    <div class=\"colab-df-container\">\n",
              "      <div>\n",
              "<style scoped>\n",
              "    .dataframe tbody tr th:only-of-type {\n",
              "        vertical-align: middle;\n",
              "    }\n",
              "\n",
              "    .dataframe tbody tr th {\n",
              "        vertical-align: top;\n",
              "    }\n",
              "\n",
              "    .dataframe thead th {\n",
              "        text-align: right;\n",
              "    }\n",
              "</style>\n",
              "<table border=\"1\" class=\"dataframe\">\n",
              "  <thead>\n",
              "    <tr style=\"text-align: right;\">\n",
              "      <th></th>\n",
              "      <th>Undergrad</th>\n",
              "      <th>Marital.Status</th>\n",
              "      <th>Taxable.Income</th>\n",
              "      <th>City.Population</th>\n",
              "      <th>Work.Experience</th>\n",
              "      <th>Urban</th>\n",
              "    </tr>\n",
              "  </thead>\n",
              "  <tbody>\n",
              "    <tr>\n",
              "      <th>0</th>\n",
              "      <td>NO</td>\n",
              "      <td>Single</td>\n",
              "      <td>good</td>\n",
              "      <td>50047</td>\n",
              "      <td>10</td>\n",
              "      <td>YES</td>\n",
              "    </tr>\n",
              "    <tr>\n",
              "      <th>1</th>\n",
              "      <td>YES</td>\n",
              "      <td>Divorced</td>\n",
              "      <td>good</td>\n",
              "      <td>134075</td>\n",
              "      <td>18</td>\n",
              "      <td>YES</td>\n",
              "    </tr>\n",
              "    <tr>\n",
              "      <th>2</th>\n",
              "      <td>NO</td>\n",
              "      <td>Married</td>\n",
              "      <td>good</td>\n",
              "      <td>160205</td>\n",
              "      <td>30</td>\n",
              "      <td>YES</td>\n",
              "    </tr>\n",
              "    <tr>\n",
              "      <th>3</th>\n",
              "      <td>YES</td>\n",
              "      <td>Single</td>\n",
              "      <td>good</td>\n",
              "      <td>193264</td>\n",
              "      <td>15</td>\n",
              "      <td>YES</td>\n",
              "    </tr>\n",
              "    <tr>\n",
              "      <th>4</th>\n",
              "      <td>NO</td>\n",
              "      <td>Married</td>\n",
              "      <td>good</td>\n",
              "      <td>27533</td>\n",
              "      <td>28</td>\n",
              "      <td>NO</td>\n",
              "    </tr>\n",
              "  </tbody>\n",
              "</table>\n",
              "</div>\n",
              "      <button class=\"colab-df-convert\" onclick=\"convertToInteractive('df-2450b3dd-626f-4cc0-bfcc-e8f00852d33a')\"\n",
              "              title=\"Convert this dataframe to an interactive table.\"\n",
              "              style=\"display:none;\">\n",
              "        \n",
              "  <svg xmlns=\"http://www.w3.org/2000/svg\" height=\"24px\"viewBox=\"0 0 24 24\"\n",
              "       width=\"24px\">\n",
              "    <path d=\"M0 0h24v24H0V0z\" fill=\"none\"/>\n",
              "    <path d=\"M18.56 5.44l.94 2.06.94-2.06 2.06-.94-2.06-.94-.94-2.06-.94 2.06-2.06.94zm-11 1L8.5 8.5l.94-2.06 2.06-.94-2.06-.94L8.5 2.5l-.94 2.06-2.06.94zm10 10l.94 2.06.94-2.06 2.06-.94-2.06-.94-.94-2.06-.94 2.06-2.06.94z\"/><path d=\"M17.41 7.96l-1.37-1.37c-.4-.4-.92-.59-1.43-.59-.52 0-1.04.2-1.43.59L10.3 9.45l-7.72 7.72c-.78.78-.78 2.05 0 2.83L4 21.41c.39.39.9.59 1.41.59.51 0 1.02-.2 1.41-.59l7.78-7.78 2.81-2.81c.8-.78.8-2.07 0-2.86zM5.41 20L4 18.59l7.72-7.72 1.47 1.35L5.41 20z\"/>\n",
              "  </svg>\n",
              "      </button>\n",
              "      \n",
              "  <style>\n",
              "    .colab-df-container {\n",
              "      display:flex;\n",
              "      flex-wrap:wrap;\n",
              "      gap: 12px;\n",
              "    }\n",
              "\n",
              "    .colab-df-convert {\n",
              "      background-color: #E8F0FE;\n",
              "      border: none;\n",
              "      border-radius: 50%;\n",
              "      cursor: pointer;\n",
              "      display: none;\n",
              "      fill: #1967D2;\n",
              "      height: 32px;\n",
              "      padding: 0 0 0 0;\n",
              "      width: 32px;\n",
              "    }\n",
              "\n",
              "    .colab-df-convert:hover {\n",
              "      background-color: #E2EBFA;\n",
              "      box-shadow: 0px 1px 2px rgba(60, 64, 67, 0.3), 0px 1px 3px 1px rgba(60, 64, 67, 0.15);\n",
              "      fill: #174EA6;\n",
              "    }\n",
              "\n",
              "    [theme=dark] .colab-df-convert {\n",
              "      background-color: #3B4455;\n",
              "      fill: #D2E3FC;\n",
              "    }\n",
              "\n",
              "    [theme=dark] .colab-df-convert:hover {\n",
              "      background-color: #434B5C;\n",
              "      box-shadow: 0px 1px 3px 1px rgba(0, 0, 0, 0.15);\n",
              "      filter: drop-shadow(0px 1px 2px rgba(0, 0, 0, 0.3));\n",
              "      fill: #FFFFFF;\n",
              "    }\n",
              "  </style>\n",
              "\n",
              "      <script>\n",
              "        const buttonEl =\n",
              "          document.querySelector('#df-2450b3dd-626f-4cc0-bfcc-e8f00852d33a button.colab-df-convert');\n",
              "        buttonEl.style.display =\n",
              "          google.colab.kernel.accessAllowed ? 'block' : 'none';\n",
              "\n",
              "        async function convertToInteractive(key) {\n",
              "          const element = document.querySelector('#df-2450b3dd-626f-4cc0-bfcc-e8f00852d33a');\n",
              "          const dataTable =\n",
              "            await google.colab.kernel.invokeFunction('convertToInteractive',\n",
              "                                                     [key], {});\n",
              "          if (!dataTable) return;\n",
              "\n",
              "          const docLinkHtml = 'Like what you see? Visit the ' +\n",
              "            '<a target=\"_blank\" href=https://colab.research.google.com/notebooks/data_table.ipynb>data table notebook</a>'\n",
              "            + ' to learn more about interactive tables.';\n",
              "          element.innerHTML = '';\n",
              "          dataTable['output_type'] = 'display_data';\n",
              "          await google.colab.output.renderOutput(dataTable, element);\n",
              "          const docLink = document.createElement('div');\n",
              "          docLink.innerHTML = docLinkHtml;\n",
              "          element.appendChild(docLink);\n",
              "        }\n",
              "      </script>\n",
              "    </div>\n",
              "  </div>\n",
              "  "
            ]
          },
          "metadata": {},
          "execution_count": 96
        }
      ],
      "source": [
        "fdata.head()"
      ]
    },
    {
      "cell_type": "code",
      "execution_count": 97,
      "id": "5fa274b6",
      "metadata": {
        "colab": {
          "base_uri": "https://localhost:8080/",
          "height": 424
        },
        "id": "5fa274b6",
        "outputId": "e837f94a-eeba-4dbd-8ce9-d0fddcaa0d62"
      },
      "outputs": [
        {
          "output_type": "execute_result",
          "data": {
            "text/plain": [
              "    Undergrad Taxable.Income  City.Population  Work.Experience Urban  \\\n",
              "0          NO           good            50047               10   YES   \n",
              "1         YES           good           134075               18   YES   \n",
              "2          NO           good           160205               30   YES   \n",
              "3         YES           good           193264               15   YES   \n",
              "4          NO           good            27533               28    NO   \n",
              "..        ...            ...              ...              ...   ...   \n",
              "595       YES           good            39492                7   YES   \n",
              "596       YES           good            55369                2   YES   \n",
              "597        NO           good           154058                0   YES   \n",
              "598       YES           good           180083               17    NO   \n",
              "599        NO           good           158137               16    NO   \n",
              "\n",
              "     Marital.Status_Divorced  Marital.Status_Married  Marital.Status_Single  \n",
              "0                          0                       0                      1  \n",
              "1                          1                       0                      0  \n",
              "2                          0                       1                      0  \n",
              "3                          0                       0                      1  \n",
              "4                          0                       1                      0  \n",
              "..                       ...                     ...                    ...  \n",
              "595                        1                       0                      0  \n",
              "596                        1                       0                      0  \n",
              "597                        1                       0                      0  \n",
              "598                        0                       1                      0  \n",
              "599                        1                       0                      0  \n",
              "\n",
              "[600 rows x 8 columns]"
            ],
            "text/html": [
              "\n",
              "  <div id=\"df-af7364d1-fab2-4cd5-964b-a59c8bfca867\">\n",
              "    <div class=\"colab-df-container\">\n",
              "      <div>\n",
              "<style scoped>\n",
              "    .dataframe tbody tr th:only-of-type {\n",
              "        vertical-align: middle;\n",
              "    }\n",
              "\n",
              "    .dataframe tbody tr th {\n",
              "        vertical-align: top;\n",
              "    }\n",
              "\n",
              "    .dataframe thead th {\n",
              "        text-align: right;\n",
              "    }\n",
              "</style>\n",
              "<table border=\"1\" class=\"dataframe\">\n",
              "  <thead>\n",
              "    <tr style=\"text-align: right;\">\n",
              "      <th></th>\n",
              "      <th>Undergrad</th>\n",
              "      <th>Taxable.Income</th>\n",
              "      <th>City.Population</th>\n",
              "      <th>Work.Experience</th>\n",
              "      <th>Urban</th>\n",
              "      <th>Marital.Status_Divorced</th>\n",
              "      <th>Marital.Status_Married</th>\n",
              "      <th>Marital.Status_Single</th>\n",
              "    </tr>\n",
              "  </thead>\n",
              "  <tbody>\n",
              "    <tr>\n",
              "      <th>0</th>\n",
              "      <td>NO</td>\n",
              "      <td>good</td>\n",
              "      <td>50047</td>\n",
              "      <td>10</td>\n",
              "      <td>YES</td>\n",
              "      <td>0</td>\n",
              "      <td>0</td>\n",
              "      <td>1</td>\n",
              "    </tr>\n",
              "    <tr>\n",
              "      <th>1</th>\n",
              "      <td>YES</td>\n",
              "      <td>good</td>\n",
              "      <td>134075</td>\n",
              "      <td>18</td>\n",
              "      <td>YES</td>\n",
              "      <td>1</td>\n",
              "      <td>0</td>\n",
              "      <td>0</td>\n",
              "    </tr>\n",
              "    <tr>\n",
              "      <th>2</th>\n",
              "      <td>NO</td>\n",
              "      <td>good</td>\n",
              "      <td>160205</td>\n",
              "      <td>30</td>\n",
              "      <td>YES</td>\n",
              "      <td>0</td>\n",
              "      <td>1</td>\n",
              "      <td>0</td>\n",
              "    </tr>\n",
              "    <tr>\n",
              "      <th>3</th>\n",
              "      <td>YES</td>\n",
              "      <td>good</td>\n",
              "      <td>193264</td>\n",
              "      <td>15</td>\n",
              "      <td>YES</td>\n",
              "      <td>0</td>\n",
              "      <td>0</td>\n",
              "      <td>1</td>\n",
              "    </tr>\n",
              "    <tr>\n",
              "      <th>4</th>\n",
              "      <td>NO</td>\n",
              "      <td>good</td>\n",
              "      <td>27533</td>\n",
              "      <td>28</td>\n",
              "      <td>NO</td>\n",
              "      <td>0</td>\n",
              "      <td>1</td>\n",
              "      <td>0</td>\n",
              "    </tr>\n",
              "    <tr>\n",
              "      <th>...</th>\n",
              "      <td>...</td>\n",
              "      <td>...</td>\n",
              "      <td>...</td>\n",
              "      <td>...</td>\n",
              "      <td>...</td>\n",
              "      <td>...</td>\n",
              "      <td>...</td>\n",
              "      <td>...</td>\n",
              "    </tr>\n",
              "    <tr>\n",
              "      <th>595</th>\n",
              "      <td>YES</td>\n",
              "      <td>good</td>\n",
              "      <td>39492</td>\n",
              "      <td>7</td>\n",
              "      <td>YES</td>\n",
              "      <td>1</td>\n",
              "      <td>0</td>\n",
              "      <td>0</td>\n",
              "    </tr>\n",
              "    <tr>\n",
              "      <th>596</th>\n",
              "      <td>YES</td>\n",
              "      <td>good</td>\n",
              "      <td>55369</td>\n",
              "      <td>2</td>\n",
              "      <td>YES</td>\n",
              "      <td>1</td>\n",
              "      <td>0</td>\n",
              "      <td>0</td>\n",
              "    </tr>\n",
              "    <tr>\n",
              "      <th>597</th>\n",
              "      <td>NO</td>\n",
              "      <td>good</td>\n",
              "      <td>154058</td>\n",
              "      <td>0</td>\n",
              "      <td>YES</td>\n",
              "      <td>1</td>\n",
              "      <td>0</td>\n",
              "      <td>0</td>\n",
              "    </tr>\n",
              "    <tr>\n",
              "      <th>598</th>\n",
              "      <td>YES</td>\n",
              "      <td>good</td>\n",
              "      <td>180083</td>\n",
              "      <td>17</td>\n",
              "      <td>NO</td>\n",
              "      <td>0</td>\n",
              "      <td>1</td>\n",
              "      <td>0</td>\n",
              "    </tr>\n",
              "    <tr>\n",
              "      <th>599</th>\n",
              "      <td>NO</td>\n",
              "      <td>good</td>\n",
              "      <td>158137</td>\n",
              "      <td>16</td>\n",
              "      <td>NO</td>\n",
              "      <td>1</td>\n",
              "      <td>0</td>\n",
              "      <td>0</td>\n",
              "    </tr>\n",
              "  </tbody>\n",
              "</table>\n",
              "<p>600 rows × 8 columns</p>\n",
              "</div>\n",
              "      <button class=\"colab-df-convert\" onclick=\"convertToInteractive('df-af7364d1-fab2-4cd5-964b-a59c8bfca867')\"\n",
              "              title=\"Convert this dataframe to an interactive table.\"\n",
              "              style=\"display:none;\">\n",
              "        \n",
              "  <svg xmlns=\"http://www.w3.org/2000/svg\" height=\"24px\"viewBox=\"0 0 24 24\"\n",
              "       width=\"24px\">\n",
              "    <path d=\"M0 0h24v24H0V0z\" fill=\"none\"/>\n",
              "    <path d=\"M18.56 5.44l.94 2.06.94-2.06 2.06-.94-2.06-.94-.94-2.06-.94 2.06-2.06.94zm-11 1L8.5 8.5l.94-2.06 2.06-.94-2.06-.94L8.5 2.5l-.94 2.06-2.06.94zm10 10l.94 2.06.94-2.06 2.06-.94-2.06-.94-.94-2.06-.94 2.06-2.06.94z\"/><path d=\"M17.41 7.96l-1.37-1.37c-.4-.4-.92-.59-1.43-.59-.52 0-1.04.2-1.43.59L10.3 9.45l-7.72 7.72c-.78.78-.78 2.05 0 2.83L4 21.41c.39.39.9.59 1.41.59.51 0 1.02-.2 1.41-.59l7.78-7.78 2.81-2.81c.8-.78.8-2.07 0-2.86zM5.41 20L4 18.59l7.72-7.72 1.47 1.35L5.41 20z\"/>\n",
              "  </svg>\n",
              "      </button>\n",
              "      \n",
              "  <style>\n",
              "    .colab-df-container {\n",
              "      display:flex;\n",
              "      flex-wrap:wrap;\n",
              "      gap: 12px;\n",
              "    }\n",
              "\n",
              "    .colab-df-convert {\n",
              "      background-color: #E8F0FE;\n",
              "      border: none;\n",
              "      border-radius: 50%;\n",
              "      cursor: pointer;\n",
              "      display: none;\n",
              "      fill: #1967D2;\n",
              "      height: 32px;\n",
              "      padding: 0 0 0 0;\n",
              "      width: 32px;\n",
              "    }\n",
              "\n",
              "    .colab-df-convert:hover {\n",
              "      background-color: #E2EBFA;\n",
              "      box-shadow: 0px 1px 2px rgba(60, 64, 67, 0.3), 0px 1px 3px 1px rgba(60, 64, 67, 0.15);\n",
              "      fill: #174EA6;\n",
              "    }\n",
              "\n",
              "    [theme=dark] .colab-df-convert {\n",
              "      background-color: #3B4455;\n",
              "      fill: #D2E3FC;\n",
              "    }\n",
              "\n",
              "    [theme=dark] .colab-df-convert:hover {\n",
              "      background-color: #434B5C;\n",
              "      box-shadow: 0px 1px 3px 1px rgba(0, 0, 0, 0.15);\n",
              "      filter: drop-shadow(0px 1px 2px rgba(0, 0, 0, 0.3));\n",
              "      fill: #FFFFFF;\n",
              "    }\n",
              "  </style>\n",
              "\n",
              "      <script>\n",
              "        const buttonEl =\n",
              "          document.querySelector('#df-af7364d1-fab2-4cd5-964b-a59c8bfca867 button.colab-df-convert');\n",
              "        buttonEl.style.display =\n",
              "          google.colab.kernel.accessAllowed ? 'block' : 'none';\n",
              "\n",
              "        async function convertToInteractive(key) {\n",
              "          const element = document.querySelector('#df-af7364d1-fab2-4cd5-964b-a59c8bfca867');\n",
              "          const dataTable =\n",
              "            await google.colab.kernel.invokeFunction('convertToInteractive',\n",
              "                                                     [key], {});\n",
              "          if (!dataTable) return;\n",
              "\n",
              "          const docLinkHtml = 'Like what you see? Visit the ' +\n",
              "            '<a target=\"_blank\" href=https://colab.research.google.com/notebooks/data_table.ipynb>data table notebook</a>'\n",
              "            + ' to learn more about interactive tables.';\n",
              "          element.innerHTML = '';\n",
              "          dataTable['output_type'] = 'display_data';\n",
              "          await google.colab.output.renderOutput(dataTable, element);\n",
              "          const docLink = document.createElement('div');\n",
              "          docLink.innerHTML = docLinkHtml;\n",
              "          element.appendChild(docLink);\n",
              "        }\n",
              "      </script>\n",
              "    </div>\n",
              "  </div>\n",
              "  "
            ]
          },
          "metadata": {},
          "execution_count": 97
        }
      ],
      "source": [
        "fdata1=pd.get_dummies(fdata,columns=['Marital.Status'])\n",
        "fdata1"
      ]
    },
    {
      "cell_type": "code",
      "execution_count": 98,
      "id": "4a7b67f4",
      "metadata": {
        "colab": {
          "base_uri": "https://localhost:8080/",
          "height": 1000
        },
        "id": "4a7b67f4",
        "outputId": "e11e3091-9b9e-4eef-8993-e9c911eb2be1"
      },
      "outputs": [
        {
          "output_type": "execute_result",
          "data": {
            "text/plain": [
              "    Undergrad  Taxable.Income  City.Population  Work.Experience  Urban  \\\n",
              "0           0               1            50047               10      1   \n",
              "1           1               1           134075               18      1   \n",
              "2           0               1           160205               30      1   \n",
              "3           1               1           193264               15      1   \n",
              "4           0               1            27533               28      0   \n",
              "5           0               1           116382                0      0   \n",
              "6           0               1            80890                8      1   \n",
              "7           1               1           131253                3      1   \n",
              "8           0               1           102481               12      1   \n",
              "9           1               1           155482                4      1   \n",
              "10          0               0           102602               19      1   \n",
              "11          0               1            94875                6      1   \n",
              "12          0               0           148033               14      1   \n",
              "13          0               1            86649               16      1   \n",
              "14          0               1            57529               13      1   \n",
              "15          0               1           107764               29      0   \n",
              "16          1               0            34551               29      0   \n",
              "17          1               1            57194               25      0   \n",
              "18          1               1            59269                6      0   \n",
              "19          0               0           126953               30      1   \n",
              "20          1               1           147222               26      0   \n",
              "21          1               0            29106                7      1   \n",
              "22          1               1           155342               14      0   \n",
              "23          0               1            50495               12      1   \n",
              "24          0               1            28495               30      0   \n",
              "25          0               1           124606               27      1   \n",
              "26          1               1           169128               15      0   \n",
              "27          1               1            28542               12      1   \n",
              "28          1               0           128766                5      1   \n",
              "29          1               1            41863               30      1   \n",
              "30          1               1           117788                0      1   \n",
              "31          0               1           147414               21      0   \n",
              "32          1               1            51911               23      0   \n",
              "33          1               1           157251               21      0   \n",
              "34          1               0           183767                1      1   \n",
              "35          1               1            41117               30      1   \n",
              "36          1               0           193995                5      1   \n",
              "37          0               1            66912                5      1   \n",
              "38          0               0           177575                3      0   \n",
              "39          0               1            54981               16      1   \n",
              "40          0               1           199697               26      1   \n",
              "41          1               1            91524                1      0   \n",
              "42          0               1            51666               12      0   \n",
              "43          1               1            50020               10      0   \n",
              "44          1               1            98880               22      0   \n",
              "45          1               1           183095               14      1   \n",
              "46          1               1           137346               27      1   \n",
              "47          1               1            34964                2      0   \n",
              "48          0               0            35480               12      0   \n",
              "49          0               1           160195               15      1   \n",
              "\n",
              "    Marital.Status_Divorced  Marital.Status_Married  Marital.Status_Single  \n",
              "0                         0                       0                      1  \n",
              "1                         1                       0                      0  \n",
              "2                         0                       1                      0  \n",
              "3                         0                       0                      1  \n",
              "4                         0                       1                      0  \n",
              "5                         1                       0                      0  \n",
              "6                         1                       0                      0  \n",
              "7                         0                       0                      1  \n",
              "8                         0                       0                      1  \n",
              "9                         1                       0                      0  \n",
              "10                        0                       0                      1  \n",
              "11                        0                       0                      1  \n",
              "12                        1                       0                      0  \n",
              "13                        0                       1                      0  \n",
              "14                        0                       1                      0  \n",
              "15                        1                       0                      0  \n",
              "16                        1                       0                      0  \n",
              "17                        0                       1                      0  \n",
              "18                        1                       0                      0  \n",
              "19                        0                       0                      1  \n",
              "20                        0                       0                      1  \n",
              "21                        1                       0                      0  \n",
              "22                        1                       0                      0  \n",
              "23                        0                       0                      1  \n",
              "24                        1                       0                      0  \n",
              "25                        1                       0                      0  \n",
              "26                        1                       0                      0  \n",
              "27                        0                       0                      1  \n",
              "28                        0                       0                      1  \n",
              "29                        1                       0                      0  \n",
              "30                        1                       0                      0  \n",
              "31                        1                       0                      0  \n",
              "32                        0                       1                      0  \n",
              "33                        0                       0                      1  \n",
              "34                        1                       0                      0  \n",
              "35                        0                       1                      0  \n",
              "36                        0                       1                      0  \n",
              "37                        0                       1                      0  \n",
              "38                        0                       0                      1  \n",
              "39                        0                       1                      0  \n",
              "40                        0                       0                      1  \n",
              "41                        0                       1                      0  \n",
              "42                        0                       0                      1  \n",
              "43                        1                       0                      0  \n",
              "44                        1                       0                      0  \n",
              "45                        0                       1                      0  \n",
              "46                        0                       1                      0  \n",
              "47                        0                       0                      1  \n",
              "48                        0                       1                      0  \n",
              "49                        1                       0                      0  "
            ],
            "text/html": [
              "\n",
              "  <div id=\"df-1bf8c1c4-65a5-4252-82c6-ecfcbf695ee8\">\n",
              "    <div class=\"colab-df-container\">\n",
              "      <div>\n",
              "<style scoped>\n",
              "    .dataframe tbody tr th:only-of-type {\n",
              "        vertical-align: middle;\n",
              "    }\n",
              "\n",
              "    .dataframe tbody tr th {\n",
              "        vertical-align: top;\n",
              "    }\n",
              "\n",
              "    .dataframe thead th {\n",
              "        text-align: right;\n",
              "    }\n",
              "</style>\n",
              "<table border=\"1\" class=\"dataframe\">\n",
              "  <thead>\n",
              "    <tr style=\"text-align: right;\">\n",
              "      <th></th>\n",
              "      <th>Undergrad</th>\n",
              "      <th>Taxable.Income</th>\n",
              "      <th>City.Population</th>\n",
              "      <th>Work.Experience</th>\n",
              "      <th>Urban</th>\n",
              "      <th>Marital.Status_Divorced</th>\n",
              "      <th>Marital.Status_Married</th>\n",
              "      <th>Marital.Status_Single</th>\n",
              "    </tr>\n",
              "  </thead>\n",
              "  <tbody>\n",
              "    <tr>\n",
              "      <th>0</th>\n",
              "      <td>0</td>\n",
              "      <td>1</td>\n",
              "      <td>50047</td>\n",
              "      <td>10</td>\n",
              "      <td>1</td>\n",
              "      <td>0</td>\n",
              "      <td>0</td>\n",
              "      <td>1</td>\n",
              "    </tr>\n",
              "    <tr>\n",
              "      <th>1</th>\n",
              "      <td>1</td>\n",
              "      <td>1</td>\n",
              "      <td>134075</td>\n",
              "      <td>18</td>\n",
              "      <td>1</td>\n",
              "      <td>1</td>\n",
              "      <td>0</td>\n",
              "      <td>0</td>\n",
              "    </tr>\n",
              "    <tr>\n",
              "      <th>2</th>\n",
              "      <td>0</td>\n",
              "      <td>1</td>\n",
              "      <td>160205</td>\n",
              "      <td>30</td>\n",
              "      <td>1</td>\n",
              "      <td>0</td>\n",
              "      <td>1</td>\n",
              "      <td>0</td>\n",
              "    </tr>\n",
              "    <tr>\n",
              "      <th>3</th>\n",
              "      <td>1</td>\n",
              "      <td>1</td>\n",
              "      <td>193264</td>\n",
              "      <td>15</td>\n",
              "      <td>1</td>\n",
              "      <td>0</td>\n",
              "      <td>0</td>\n",
              "      <td>1</td>\n",
              "    </tr>\n",
              "    <tr>\n",
              "      <th>4</th>\n",
              "      <td>0</td>\n",
              "      <td>1</td>\n",
              "      <td>27533</td>\n",
              "      <td>28</td>\n",
              "      <td>0</td>\n",
              "      <td>0</td>\n",
              "      <td>1</td>\n",
              "      <td>0</td>\n",
              "    </tr>\n",
              "    <tr>\n",
              "      <th>5</th>\n",
              "      <td>0</td>\n",
              "      <td>1</td>\n",
              "      <td>116382</td>\n",
              "      <td>0</td>\n",
              "      <td>0</td>\n",
              "      <td>1</td>\n",
              "      <td>0</td>\n",
              "      <td>0</td>\n",
              "    </tr>\n",
              "    <tr>\n",
              "      <th>6</th>\n",
              "      <td>0</td>\n",
              "      <td>1</td>\n",
              "      <td>80890</td>\n",
              "      <td>8</td>\n",
              "      <td>1</td>\n",
              "      <td>1</td>\n",
              "      <td>0</td>\n",
              "      <td>0</td>\n",
              "    </tr>\n",
              "    <tr>\n",
              "      <th>7</th>\n",
              "      <td>1</td>\n",
              "      <td>1</td>\n",
              "      <td>131253</td>\n",
              "      <td>3</td>\n",
              "      <td>1</td>\n",
              "      <td>0</td>\n",
              "      <td>0</td>\n",
              "      <td>1</td>\n",
              "    </tr>\n",
              "    <tr>\n",
              "      <th>8</th>\n",
              "      <td>0</td>\n",
              "      <td>1</td>\n",
              "      <td>102481</td>\n",
              "      <td>12</td>\n",
              "      <td>1</td>\n",
              "      <td>0</td>\n",
              "      <td>0</td>\n",
              "      <td>1</td>\n",
              "    </tr>\n",
              "    <tr>\n",
              "      <th>9</th>\n",
              "      <td>1</td>\n",
              "      <td>1</td>\n",
              "      <td>155482</td>\n",
              "      <td>4</td>\n",
              "      <td>1</td>\n",
              "      <td>1</td>\n",
              "      <td>0</td>\n",
              "      <td>0</td>\n",
              "    </tr>\n",
              "    <tr>\n",
              "      <th>10</th>\n",
              "      <td>0</td>\n",
              "      <td>0</td>\n",
              "      <td>102602</td>\n",
              "      <td>19</td>\n",
              "      <td>1</td>\n",
              "      <td>0</td>\n",
              "      <td>0</td>\n",
              "      <td>1</td>\n",
              "    </tr>\n",
              "    <tr>\n",
              "      <th>11</th>\n",
              "      <td>0</td>\n",
              "      <td>1</td>\n",
              "      <td>94875</td>\n",
              "      <td>6</td>\n",
              "      <td>1</td>\n",
              "      <td>0</td>\n",
              "      <td>0</td>\n",
              "      <td>1</td>\n",
              "    </tr>\n",
              "    <tr>\n",
              "      <th>12</th>\n",
              "      <td>0</td>\n",
              "      <td>0</td>\n",
              "      <td>148033</td>\n",
              "      <td>14</td>\n",
              "      <td>1</td>\n",
              "      <td>1</td>\n",
              "      <td>0</td>\n",
              "      <td>0</td>\n",
              "    </tr>\n",
              "    <tr>\n",
              "      <th>13</th>\n",
              "      <td>0</td>\n",
              "      <td>1</td>\n",
              "      <td>86649</td>\n",
              "      <td>16</td>\n",
              "      <td>1</td>\n",
              "      <td>0</td>\n",
              "      <td>1</td>\n",
              "      <td>0</td>\n",
              "    </tr>\n",
              "    <tr>\n",
              "      <th>14</th>\n",
              "      <td>0</td>\n",
              "      <td>1</td>\n",
              "      <td>57529</td>\n",
              "      <td>13</td>\n",
              "      <td>1</td>\n",
              "      <td>0</td>\n",
              "      <td>1</td>\n",
              "      <td>0</td>\n",
              "    </tr>\n",
              "    <tr>\n",
              "      <th>15</th>\n",
              "      <td>0</td>\n",
              "      <td>1</td>\n",
              "      <td>107764</td>\n",
              "      <td>29</td>\n",
              "      <td>0</td>\n",
              "      <td>1</td>\n",
              "      <td>0</td>\n",
              "      <td>0</td>\n",
              "    </tr>\n",
              "    <tr>\n",
              "      <th>16</th>\n",
              "      <td>1</td>\n",
              "      <td>0</td>\n",
              "      <td>34551</td>\n",
              "      <td>29</td>\n",
              "      <td>0</td>\n",
              "      <td>1</td>\n",
              "      <td>0</td>\n",
              "      <td>0</td>\n",
              "    </tr>\n",
              "    <tr>\n",
              "      <th>17</th>\n",
              "      <td>1</td>\n",
              "      <td>1</td>\n",
              "      <td>57194</td>\n",
              "      <td>25</td>\n",
              "      <td>0</td>\n",
              "      <td>0</td>\n",
              "      <td>1</td>\n",
              "      <td>0</td>\n",
              "    </tr>\n",
              "    <tr>\n",
              "      <th>18</th>\n",
              "      <td>1</td>\n",
              "      <td>1</td>\n",
              "      <td>59269</td>\n",
              "      <td>6</td>\n",
              "      <td>0</td>\n",
              "      <td>1</td>\n",
              "      <td>0</td>\n",
              "      <td>0</td>\n",
              "    </tr>\n",
              "    <tr>\n",
              "      <th>19</th>\n",
              "      <td>0</td>\n",
              "      <td>0</td>\n",
              "      <td>126953</td>\n",
              "      <td>30</td>\n",
              "      <td>1</td>\n",
              "      <td>0</td>\n",
              "      <td>0</td>\n",
              "      <td>1</td>\n",
              "    </tr>\n",
              "    <tr>\n",
              "      <th>20</th>\n",
              "      <td>1</td>\n",
              "      <td>1</td>\n",
              "      <td>147222</td>\n",
              "      <td>26</td>\n",
              "      <td>0</td>\n",
              "      <td>0</td>\n",
              "      <td>0</td>\n",
              "      <td>1</td>\n",
              "    </tr>\n",
              "    <tr>\n",
              "      <th>21</th>\n",
              "      <td>1</td>\n",
              "      <td>0</td>\n",
              "      <td>29106</td>\n",
              "      <td>7</td>\n",
              "      <td>1</td>\n",
              "      <td>1</td>\n",
              "      <td>0</td>\n",
              "      <td>0</td>\n",
              "    </tr>\n",
              "    <tr>\n",
              "      <th>22</th>\n",
              "      <td>1</td>\n",
              "      <td>1</td>\n",
              "      <td>155342</td>\n",
              "      <td>14</td>\n",
              "      <td>0</td>\n",
              "      <td>1</td>\n",
              "      <td>0</td>\n",
              "      <td>0</td>\n",
              "    </tr>\n",
              "    <tr>\n",
              "      <th>23</th>\n",
              "      <td>0</td>\n",
              "      <td>1</td>\n",
              "      <td>50495</td>\n",
              "      <td>12</td>\n",
              "      <td>1</td>\n",
              "      <td>0</td>\n",
              "      <td>0</td>\n",
              "      <td>1</td>\n",
              "    </tr>\n",
              "    <tr>\n",
              "      <th>24</th>\n",
              "      <td>0</td>\n",
              "      <td>1</td>\n",
              "      <td>28495</td>\n",
              "      <td>30</td>\n",
              "      <td>0</td>\n",
              "      <td>1</td>\n",
              "      <td>0</td>\n",
              "      <td>0</td>\n",
              "    </tr>\n",
              "    <tr>\n",
              "      <th>25</th>\n",
              "      <td>0</td>\n",
              "      <td>1</td>\n",
              "      <td>124606</td>\n",
              "      <td>27</td>\n",
              "      <td>1</td>\n",
              "      <td>1</td>\n",
              "      <td>0</td>\n",
              "      <td>0</td>\n",
              "    </tr>\n",
              "    <tr>\n",
              "      <th>26</th>\n",
              "      <td>1</td>\n",
              "      <td>1</td>\n",
              "      <td>169128</td>\n",
              "      <td>15</td>\n",
              "      <td>0</td>\n",
              "      <td>1</td>\n",
              "      <td>0</td>\n",
              "      <td>0</td>\n",
              "    </tr>\n",
              "    <tr>\n",
              "      <th>27</th>\n",
              "      <td>1</td>\n",
              "      <td>1</td>\n",
              "      <td>28542</td>\n",
              "      <td>12</td>\n",
              "      <td>1</td>\n",
              "      <td>0</td>\n",
              "      <td>0</td>\n",
              "      <td>1</td>\n",
              "    </tr>\n",
              "    <tr>\n",
              "      <th>28</th>\n",
              "      <td>1</td>\n",
              "      <td>0</td>\n",
              "      <td>128766</td>\n",
              "      <td>5</td>\n",
              "      <td>1</td>\n",
              "      <td>0</td>\n",
              "      <td>0</td>\n",
              "      <td>1</td>\n",
              "    </tr>\n",
              "    <tr>\n",
              "      <th>29</th>\n",
              "      <td>1</td>\n",
              "      <td>1</td>\n",
              "      <td>41863</td>\n",
              "      <td>30</td>\n",
              "      <td>1</td>\n",
              "      <td>1</td>\n",
              "      <td>0</td>\n",
              "      <td>0</td>\n",
              "    </tr>\n",
              "    <tr>\n",
              "      <th>30</th>\n",
              "      <td>1</td>\n",
              "      <td>1</td>\n",
              "      <td>117788</td>\n",
              "      <td>0</td>\n",
              "      <td>1</td>\n",
              "      <td>1</td>\n",
              "      <td>0</td>\n",
              "      <td>0</td>\n",
              "    </tr>\n",
              "    <tr>\n",
              "      <th>31</th>\n",
              "      <td>0</td>\n",
              "      <td>1</td>\n",
              "      <td>147414</td>\n",
              "      <td>21</td>\n",
              "      <td>0</td>\n",
              "      <td>1</td>\n",
              "      <td>0</td>\n",
              "      <td>0</td>\n",
              "    </tr>\n",
              "    <tr>\n",
              "      <th>32</th>\n",
              "      <td>1</td>\n",
              "      <td>1</td>\n",
              "      <td>51911</td>\n",
              "      <td>23</td>\n",
              "      <td>0</td>\n",
              "      <td>0</td>\n",
              "      <td>1</td>\n",
              "      <td>0</td>\n",
              "    </tr>\n",
              "    <tr>\n",
              "      <th>33</th>\n",
              "      <td>1</td>\n",
              "      <td>1</td>\n",
              "      <td>157251</td>\n",
              "      <td>21</td>\n",
              "      <td>0</td>\n",
              "      <td>0</td>\n",
              "      <td>0</td>\n",
              "      <td>1</td>\n",
              "    </tr>\n",
              "    <tr>\n",
              "      <th>34</th>\n",
              "      <td>1</td>\n",
              "      <td>0</td>\n",
              "      <td>183767</td>\n",
              "      <td>1</td>\n",
              "      <td>1</td>\n",
              "      <td>1</td>\n",
              "      <td>0</td>\n",
              "      <td>0</td>\n",
              "    </tr>\n",
              "    <tr>\n",
              "      <th>35</th>\n",
              "      <td>1</td>\n",
              "      <td>1</td>\n",
              "      <td>41117</td>\n",
              "      <td>30</td>\n",
              "      <td>1</td>\n",
              "      <td>0</td>\n",
              "      <td>1</td>\n",
              "      <td>0</td>\n",
              "    </tr>\n",
              "    <tr>\n",
              "      <th>36</th>\n",
              "      <td>1</td>\n",
              "      <td>0</td>\n",
              "      <td>193995</td>\n",
              "      <td>5</td>\n",
              "      <td>1</td>\n",
              "      <td>0</td>\n",
              "      <td>1</td>\n",
              "      <td>0</td>\n",
              "    </tr>\n",
              "    <tr>\n",
              "      <th>37</th>\n",
              "      <td>0</td>\n",
              "      <td>1</td>\n",
              "      <td>66912</td>\n",
              "      <td>5</td>\n",
              "      <td>1</td>\n",
              "      <td>0</td>\n",
              "      <td>1</td>\n",
              "      <td>0</td>\n",
              "    </tr>\n",
              "    <tr>\n",
              "      <th>38</th>\n",
              "      <td>0</td>\n",
              "      <td>0</td>\n",
              "      <td>177575</td>\n",
              "      <td>3</td>\n",
              "      <td>0</td>\n",
              "      <td>0</td>\n",
              "      <td>0</td>\n",
              "      <td>1</td>\n",
              "    </tr>\n",
              "    <tr>\n",
              "      <th>39</th>\n",
              "      <td>0</td>\n",
              "      <td>1</td>\n",
              "      <td>54981</td>\n",
              "      <td>16</td>\n",
              "      <td>1</td>\n",
              "      <td>0</td>\n",
              "      <td>1</td>\n",
              "      <td>0</td>\n",
              "    </tr>\n",
              "    <tr>\n",
              "      <th>40</th>\n",
              "      <td>0</td>\n",
              "      <td>1</td>\n",
              "      <td>199697</td>\n",
              "      <td>26</td>\n",
              "      <td>1</td>\n",
              "      <td>0</td>\n",
              "      <td>0</td>\n",
              "      <td>1</td>\n",
              "    </tr>\n",
              "    <tr>\n",
              "      <th>41</th>\n",
              "      <td>1</td>\n",
              "      <td>1</td>\n",
              "      <td>91524</td>\n",
              "      <td>1</td>\n",
              "      <td>0</td>\n",
              "      <td>0</td>\n",
              "      <td>1</td>\n",
              "      <td>0</td>\n",
              "    </tr>\n",
              "    <tr>\n",
              "      <th>42</th>\n",
              "      <td>0</td>\n",
              "      <td>1</td>\n",
              "      <td>51666</td>\n",
              "      <td>12</td>\n",
              "      <td>0</td>\n",
              "      <td>0</td>\n",
              "      <td>0</td>\n",
              "      <td>1</td>\n",
              "    </tr>\n",
              "    <tr>\n",
              "      <th>43</th>\n",
              "      <td>1</td>\n",
              "      <td>1</td>\n",
              "      <td>50020</td>\n",
              "      <td>10</td>\n",
              "      <td>0</td>\n",
              "      <td>1</td>\n",
              "      <td>0</td>\n",
              "      <td>0</td>\n",
              "    </tr>\n",
              "    <tr>\n",
              "      <th>44</th>\n",
              "      <td>1</td>\n",
              "      <td>1</td>\n",
              "      <td>98880</td>\n",
              "      <td>22</td>\n",
              "      <td>0</td>\n",
              "      <td>1</td>\n",
              "      <td>0</td>\n",
              "      <td>0</td>\n",
              "    </tr>\n",
              "    <tr>\n",
              "      <th>45</th>\n",
              "      <td>1</td>\n",
              "      <td>1</td>\n",
              "      <td>183095</td>\n",
              "      <td>14</td>\n",
              "      <td>1</td>\n",
              "      <td>0</td>\n",
              "      <td>1</td>\n",
              "      <td>0</td>\n",
              "    </tr>\n",
              "    <tr>\n",
              "      <th>46</th>\n",
              "      <td>1</td>\n",
              "      <td>1</td>\n",
              "      <td>137346</td>\n",
              "      <td>27</td>\n",
              "      <td>1</td>\n",
              "      <td>0</td>\n",
              "      <td>1</td>\n",
              "      <td>0</td>\n",
              "    </tr>\n",
              "    <tr>\n",
              "      <th>47</th>\n",
              "      <td>1</td>\n",
              "      <td>1</td>\n",
              "      <td>34964</td>\n",
              "      <td>2</td>\n",
              "      <td>0</td>\n",
              "      <td>0</td>\n",
              "      <td>0</td>\n",
              "      <td>1</td>\n",
              "    </tr>\n",
              "    <tr>\n",
              "      <th>48</th>\n",
              "      <td>0</td>\n",
              "      <td>0</td>\n",
              "      <td>35480</td>\n",
              "      <td>12</td>\n",
              "      <td>0</td>\n",
              "      <td>0</td>\n",
              "      <td>1</td>\n",
              "      <td>0</td>\n",
              "    </tr>\n",
              "    <tr>\n",
              "      <th>49</th>\n",
              "      <td>0</td>\n",
              "      <td>1</td>\n",
              "      <td>160195</td>\n",
              "      <td>15</td>\n",
              "      <td>1</td>\n",
              "      <td>1</td>\n",
              "      <td>0</td>\n",
              "      <td>0</td>\n",
              "    </tr>\n",
              "  </tbody>\n",
              "</table>\n",
              "</div>\n",
              "      <button class=\"colab-df-convert\" onclick=\"convertToInteractive('df-1bf8c1c4-65a5-4252-82c6-ecfcbf695ee8')\"\n",
              "              title=\"Convert this dataframe to an interactive table.\"\n",
              "              style=\"display:none;\">\n",
              "        \n",
              "  <svg xmlns=\"http://www.w3.org/2000/svg\" height=\"24px\"viewBox=\"0 0 24 24\"\n",
              "       width=\"24px\">\n",
              "    <path d=\"M0 0h24v24H0V0z\" fill=\"none\"/>\n",
              "    <path d=\"M18.56 5.44l.94 2.06.94-2.06 2.06-.94-2.06-.94-.94-2.06-.94 2.06-2.06.94zm-11 1L8.5 8.5l.94-2.06 2.06-.94-2.06-.94L8.5 2.5l-.94 2.06-2.06.94zm10 10l.94 2.06.94-2.06 2.06-.94-2.06-.94-.94-2.06-.94 2.06-2.06.94z\"/><path d=\"M17.41 7.96l-1.37-1.37c-.4-.4-.92-.59-1.43-.59-.52 0-1.04.2-1.43.59L10.3 9.45l-7.72 7.72c-.78.78-.78 2.05 0 2.83L4 21.41c.39.39.9.59 1.41.59.51 0 1.02-.2 1.41-.59l7.78-7.78 2.81-2.81c.8-.78.8-2.07 0-2.86zM5.41 20L4 18.59l7.72-7.72 1.47 1.35L5.41 20z\"/>\n",
              "  </svg>\n",
              "      </button>\n",
              "      \n",
              "  <style>\n",
              "    .colab-df-container {\n",
              "      display:flex;\n",
              "      flex-wrap:wrap;\n",
              "      gap: 12px;\n",
              "    }\n",
              "\n",
              "    .colab-df-convert {\n",
              "      background-color: #E8F0FE;\n",
              "      border: none;\n",
              "      border-radius: 50%;\n",
              "      cursor: pointer;\n",
              "      display: none;\n",
              "      fill: #1967D2;\n",
              "      height: 32px;\n",
              "      padding: 0 0 0 0;\n",
              "      width: 32px;\n",
              "    }\n",
              "\n",
              "    .colab-df-convert:hover {\n",
              "      background-color: #E2EBFA;\n",
              "      box-shadow: 0px 1px 2px rgba(60, 64, 67, 0.3), 0px 1px 3px 1px rgba(60, 64, 67, 0.15);\n",
              "      fill: #174EA6;\n",
              "    }\n",
              "\n",
              "    [theme=dark] .colab-df-convert {\n",
              "      background-color: #3B4455;\n",
              "      fill: #D2E3FC;\n",
              "    }\n",
              "\n",
              "    [theme=dark] .colab-df-convert:hover {\n",
              "      background-color: #434B5C;\n",
              "      box-shadow: 0px 1px 3px 1px rgba(0, 0, 0, 0.15);\n",
              "      filter: drop-shadow(0px 1px 2px rgba(0, 0, 0, 0.3));\n",
              "      fill: #FFFFFF;\n",
              "    }\n",
              "  </style>\n",
              "\n",
              "      <script>\n",
              "        const buttonEl =\n",
              "          document.querySelector('#df-1bf8c1c4-65a5-4252-82c6-ecfcbf695ee8 button.colab-df-convert');\n",
              "        buttonEl.style.display =\n",
              "          google.colab.kernel.accessAllowed ? 'block' : 'none';\n",
              "\n",
              "        async function convertToInteractive(key) {\n",
              "          const element = document.querySelector('#df-1bf8c1c4-65a5-4252-82c6-ecfcbf695ee8');\n",
              "          const dataTable =\n",
              "            await google.colab.kernel.invokeFunction('convertToInteractive',\n",
              "                                                     [key], {});\n",
              "          if (!dataTable) return;\n",
              "\n",
              "          const docLinkHtml = 'Like what you see? Visit the ' +\n",
              "            '<a target=\"_blank\" href=https://colab.research.google.com/notebooks/data_table.ipynb>data table notebook</a>'\n",
              "            + ' to learn more about interactive tables.';\n",
              "          element.innerHTML = '';\n",
              "          dataTable['output_type'] = 'display_data';\n",
              "          await google.colab.output.renderOutput(dataTable, element);\n",
              "          const docLink = document.createElement('div');\n",
              "          docLink.innerHTML = docLinkHtml;\n",
              "          element.appendChild(docLink);\n",
              "        }\n",
              "      </script>\n",
              "    </div>\n",
              "  </div>\n",
              "  "
            ]
          },
          "metadata": {},
          "execution_count": 98
        }
      ],
      "source": [
        "fdata1.Undergrad.replace(('YES','NO'),(1, 0),inplace=True)\n",
        "fdata1[\"Taxable.Income\"].replace(('good','risky'),(1, 0),inplace=True)\n",
        "fdata1.Urban.replace(('YES','NO'),(1, 0),inplace=True)\n",
        "fdata1.head(50)"
      ]
    },
    {
      "cell_type": "code",
      "execution_count": 99,
      "id": "ddfc0791",
      "metadata": {
        "colab": {
          "base_uri": "https://localhost:8080/"
        },
        "id": "ddfc0791",
        "outputId": "fd94792f-96ab-40f8-94de-68ccf5a50af0"
      },
      "outputs": [
        {
          "output_type": "execute_result",
          "data": {
            "text/plain": [
              "Undergrad                  int64\n",
              "Taxable.Income             int64\n",
              "City.Population            int64\n",
              "Work.Experience            int64\n",
              "Urban                      int64\n",
              "Marital.Status_Divorced    uint8\n",
              "Marital.Status_Married     uint8\n",
              "Marital.Status_Single      uint8\n",
              "dtype: object"
            ]
          },
          "metadata": {},
          "execution_count": 99
        }
      ],
      "source": [
        "fdata1.dtypes"
      ]
    },
    {
      "cell_type": "markdown",
      "id": "c531f102",
      "metadata": {
        "id": "c531f102"
      },
      "source": [
        "### Model Building"
      ]
    },
    {
      "cell_type": "code",
      "execution_count": 100,
      "id": "4522eccd",
      "metadata": {
        "colab": {
          "base_uri": "https://localhost:8080/",
          "height": 424
        },
        "id": "4522eccd",
        "outputId": "6561e08c-a1fe-43a4-b0d1-7ae998f04375"
      },
      "outputs": [
        {
          "output_type": "execute_result",
          "data": {
            "text/plain": [
              "     Undergrad  City.Population  Work.Experience  Urban  \\\n",
              "0            0            50047               10      1   \n",
              "1            1           134075               18      1   \n",
              "2            0           160205               30      1   \n",
              "3            1           193264               15      1   \n",
              "4            0            27533               28      0   \n",
              "..         ...              ...              ...    ...   \n",
              "595          1            39492                7      1   \n",
              "596          1            55369                2      1   \n",
              "597          0           154058                0      1   \n",
              "598          1           180083               17      0   \n",
              "599          0           158137               16      0   \n",
              "\n",
              "     Marital.Status_Divorced  Marital.Status_Married  Marital.Status_Single  \n",
              "0                          0                       0                      1  \n",
              "1                          1                       0                      0  \n",
              "2                          0                       1                      0  \n",
              "3                          0                       0                      1  \n",
              "4                          0                       1                      0  \n",
              "..                       ...                     ...                    ...  \n",
              "595                        1                       0                      0  \n",
              "596                        1                       0                      0  \n",
              "597                        1                       0                      0  \n",
              "598                        0                       1                      0  \n",
              "599                        1                       0                      0  \n",
              "\n",
              "[600 rows x 7 columns]"
            ],
            "text/html": [
              "\n",
              "  <div id=\"df-b1ca1633-5972-4fe7-86e1-91543fb13985\">\n",
              "    <div class=\"colab-df-container\">\n",
              "      <div>\n",
              "<style scoped>\n",
              "    .dataframe tbody tr th:only-of-type {\n",
              "        vertical-align: middle;\n",
              "    }\n",
              "\n",
              "    .dataframe tbody tr th {\n",
              "        vertical-align: top;\n",
              "    }\n",
              "\n",
              "    .dataframe thead th {\n",
              "        text-align: right;\n",
              "    }\n",
              "</style>\n",
              "<table border=\"1\" class=\"dataframe\">\n",
              "  <thead>\n",
              "    <tr style=\"text-align: right;\">\n",
              "      <th></th>\n",
              "      <th>Undergrad</th>\n",
              "      <th>City.Population</th>\n",
              "      <th>Work.Experience</th>\n",
              "      <th>Urban</th>\n",
              "      <th>Marital.Status_Divorced</th>\n",
              "      <th>Marital.Status_Married</th>\n",
              "      <th>Marital.Status_Single</th>\n",
              "    </tr>\n",
              "  </thead>\n",
              "  <tbody>\n",
              "    <tr>\n",
              "      <th>0</th>\n",
              "      <td>0</td>\n",
              "      <td>50047</td>\n",
              "      <td>10</td>\n",
              "      <td>1</td>\n",
              "      <td>0</td>\n",
              "      <td>0</td>\n",
              "      <td>1</td>\n",
              "    </tr>\n",
              "    <tr>\n",
              "      <th>1</th>\n",
              "      <td>1</td>\n",
              "      <td>134075</td>\n",
              "      <td>18</td>\n",
              "      <td>1</td>\n",
              "      <td>1</td>\n",
              "      <td>0</td>\n",
              "      <td>0</td>\n",
              "    </tr>\n",
              "    <tr>\n",
              "      <th>2</th>\n",
              "      <td>0</td>\n",
              "      <td>160205</td>\n",
              "      <td>30</td>\n",
              "      <td>1</td>\n",
              "      <td>0</td>\n",
              "      <td>1</td>\n",
              "      <td>0</td>\n",
              "    </tr>\n",
              "    <tr>\n",
              "      <th>3</th>\n",
              "      <td>1</td>\n",
              "      <td>193264</td>\n",
              "      <td>15</td>\n",
              "      <td>1</td>\n",
              "      <td>0</td>\n",
              "      <td>0</td>\n",
              "      <td>1</td>\n",
              "    </tr>\n",
              "    <tr>\n",
              "      <th>4</th>\n",
              "      <td>0</td>\n",
              "      <td>27533</td>\n",
              "      <td>28</td>\n",
              "      <td>0</td>\n",
              "      <td>0</td>\n",
              "      <td>1</td>\n",
              "      <td>0</td>\n",
              "    </tr>\n",
              "    <tr>\n",
              "      <th>...</th>\n",
              "      <td>...</td>\n",
              "      <td>...</td>\n",
              "      <td>...</td>\n",
              "      <td>...</td>\n",
              "      <td>...</td>\n",
              "      <td>...</td>\n",
              "      <td>...</td>\n",
              "    </tr>\n",
              "    <tr>\n",
              "      <th>595</th>\n",
              "      <td>1</td>\n",
              "      <td>39492</td>\n",
              "      <td>7</td>\n",
              "      <td>1</td>\n",
              "      <td>1</td>\n",
              "      <td>0</td>\n",
              "      <td>0</td>\n",
              "    </tr>\n",
              "    <tr>\n",
              "      <th>596</th>\n",
              "      <td>1</td>\n",
              "      <td>55369</td>\n",
              "      <td>2</td>\n",
              "      <td>1</td>\n",
              "      <td>1</td>\n",
              "      <td>0</td>\n",
              "      <td>0</td>\n",
              "    </tr>\n",
              "    <tr>\n",
              "      <th>597</th>\n",
              "      <td>0</td>\n",
              "      <td>154058</td>\n",
              "      <td>0</td>\n",
              "      <td>1</td>\n",
              "      <td>1</td>\n",
              "      <td>0</td>\n",
              "      <td>0</td>\n",
              "    </tr>\n",
              "    <tr>\n",
              "      <th>598</th>\n",
              "      <td>1</td>\n",
              "      <td>180083</td>\n",
              "      <td>17</td>\n",
              "      <td>0</td>\n",
              "      <td>0</td>\n",
              "      <td>1</td>\n",
              "      <td>0</td>\n",
              "    </tr>\n",
              "    <tr>\n",
              "      <th>599</th>\n",
              "      <td>0</td>\n",
              "      <td>158137</td>\n",
              "      <td>16</td>\n",
              "      <td>0</td>\n",
              "      <td>1</td>\n",
              "      <td>0</td>\n",
              "      <td>0</td>\n",
              "    </tr>\n",
              "  </tbody>\n",
              "</table>\n",
              "<p>600 rows × 7 columns</p>\n",
              "</div>\n",
              "      <button class=\"colab-df-convert\" onclick=\"convertToInteractive('df-b1ca1633-5972-4fe7-86e1-91543fb13985')\"\n",
              "              title=\"Convert this dataframe to an interactive table.\"\n",
              "              style=\"display:none;\">\n",
              "        \n",
              "  <svg xmlns=\"http://www.w3.org/2000/svg\" height=\"24px\"viewBox=\"0 0 24 24\"\n",
              "       width=\"24px\">\n",
              "    <path d=\"M0 0h24v24H0V0z\" fill=\"none\"/>\n",
              "    <path d=\"M18.56 5.44l.94 2.06.94-2.06 2.06-.94-2.06-.94-.94-2.06-.94 2.06-2.06.94zm-11 1L8.5 8.5l.94-2.06 2.06-.94-2.06-.94L8.5 2.5l-.94 2.06-2.06.94zm10 10l.94 2.06.94-2.06 2.06-.94-2.06-.94-.94-2.06-.94 2.06-2.06.94z\"/><path d=\"M17.41 7.96l-1.37-1.37c-.4-.4-.92-.59-1.43-.59-.52 0-1.04.2-1.43.59L10.3 9.45l-7.72 7.72c-.78.78-.78 2.05 0 2.83L4 21.41c.39.39.9.59 1.41.59.51 0 1.02-.2 1.41-.59l7.78-7.78 2.81-2.81c.8-.78.8-2.07 0-2.86zM5.41 20L4 18.59l7.72-7.72 1.47 1.35L5.41 20z\"/>\n",
              "  </svg>\n",
              "      </button>\n",
              "      \n",
              "  <style>\n",
              "    .colab-df-container {\n",
              "      display:flex;\n",
              "      flex-wrap:wrap;\n",
              "      gap: 12px;\n",
              "    }\n",
              "\n",
              "    .colab-df-convert {\n",
              "      background-color: #E8F0FE;\n",
              "      border: none;\n",
              "      border-radius: 50%;\n",
              "      cursor: pointer;\n",
              "      display: none;\n",
              "      fill: #1967D2;\n",
              "      height: 32px;\n",
              "      padding: 0 0 0 0;\n",
              "      width: 32px;\n",
              "    }\n",
              "\n",
              "    .colab-df-convert:hover {\n",
              "      background-color: #E2EBFA;\n",
              "      box-shadow: 0px 1px 2px rgba(60, 64, 67, 0.3), 0px 1px 3px 1px rgba(60, 64, 67, 0.15);\n",
              "      fill: #174EA6;\n",
              "    }\n",
              "\n",
              "    [theme=dark] .colab-df-convert {\n",
              "      background-color: #3B4455;\n",
              "      fill: #D2E3FC;\n",
              "    }\n",
              "\n",
              "    [theme=dark] .colab-df-convert:hover {\n",
              "      background-color: #434B5C;\n",
              "      box-shadow: 0px 1px 3px 1px rgba(0, 0, 0, 0.15);\n",
              "      filter: drop-shadow(0px 1px 2px rgba(0, 0, 0, 0.3));\n",
              "      fill: #FFFFFF;\n",
              "    }\n",
              "  </style>\n",
              "\n",
              "      <script>\n",
              "        const buttonEl =\n",
              "          document.querySelector('#df-b1ca1633-5972-4fe7-86e1-91543fb13985 button.colab-df-convert');\n",
              "        buttonEl.style.display =\n",
              "          google.colab.kernel.accessAllowed ? 'block' : 'none';\n",
              "\n",
              "        async function convertToInteractive(key) {\n",
              "          const element = document.querySelector('#df-b1ca1633-5972-4fe7-86e1-91543fb13985');\n",
              "          const dataTable =\n",
              "            await google.colab.kernel.invokeFunction('convertToInteractive',\n",
              "                                                     [key], {});\n",
              "          if (!dataTable) return;\n",
              "\n",
              "          const docLinkHtml = 'Like what you see? Visit the ' +\n",
              "            '<a target=\"_blank\" href=https://colab.research.google.com/notebooks/data_table.ipynb>data table notebook</a>'\n",
              "            + ' to learn more about interactive tables.';\n",
              "          element.innerHTML = '';\n",
              "          dataTable['output_type'] = 'display_data';\n",
              "          await google.colab.output.renderOutput(dataTable, element);\n",
              "          const docLink = document.createElement('div');\n",
              "          docLink.innerHTML = docLinkHtml;\n",
              "          element.appendChild(docLink);\n",
              "        }\n",
              "      </script>\n",
              "    </div>\n",
              "  </div>\n",
              "  "
            ]
          },
          "metadata": {},
          "execution_count": 100
        }
      ],
      "source": [
        "X=pd.concat([fdata1.iloc[:,0:1],fdata1.iloc[:,2:]],axis=1)\n",
        "X"
      ]
    },
    {
      "cell_type": "code",
      "execution_count": 101,
      "id": "10da1ae7",
      "metadata": {
        "colab": {
          "base_uri": "https://localhost:8080/"
        },
        "id": "10da1ae7",
        "outputId": "490a3d03-63cb-4a2e-e019-26fc378872c2"
      },
      "outputs": [
        {
          "output_type": "execute_result",
          "data": {
            "text/plain": [
              "0      1\n",
              "1      1\n",
              "2      1\n",
              "3      1\n",
              "4      1\n",
              "      ..\n",
              "595    1\n",
              "596    1\n",
              "597    1\n",
              "598    1\n",
              "599    1\n",
              "Name: Taxable.Income, Length: 600, dtype: int64"
            ]
          },
          "metadata": {},
          "execution_count": 101
        }
      ],
      "source": [
        "Y=fdata1.iloc[:,1]\n",
        "Y"
      ]
    },
    {
      "cell_type": "code",
      "execution_count": 102,
      "id": "fde99459",
      "metadata": {
        "id": "fde99459"
      },
      "outputs": [],
      "source": [
        "X_train,X_test,Y_train,Y_test=train_test_split(X,Y,random_state=123,test_size=0.20)"
      ]
    },
    {
      "cell_type": "code",
      "execution_count": 103,
      "id": "43e34418",
      "metadata": {
        "colab": {
          "base_uri": "https://localhost:8080/"
        },
        "id": "43e34418",
        "outputId": "a9e10161-e352-4282-d912-a6f32afa2e9a"
      },
      "outputs": [
        {
          "output_type": "stream",
          "name": "stdout",
          "text": [
            "(480, 7)\n",
            "(120, 7)\n",
            "(480,)\n",
            "(120,)\n"
          ]
        }
      ],
      "source": [
        "print(X_train.shape)\n",
        "print(X_test.shape)\n",
        "print(Y_train.shape)\n",
        "print(Y_test.shape)"
      ]
    },
    {
      "cell_type": "markdown",
      "id": "9b2ce1fc",
      "metadata": {
        "id": "9b2ce1fc"
      },
      "source": [
        "### Model Training"
      ]
    },
    {
      "cell_type": "code",
      "execution_count": 104,
      "id": "b0ca514e",
      "metadata": {
        "id": "b0ca514e"
      },
      "outputs": [],
      "source": [
        "model=DecisionTreeClassifier(criterion='gini',max_depth=3)"
      ]
    },
    {
      "cell_type": "code",
      "execution_count": 105,
      "id": "0b1c3307",
      "metadata": {
        "colab": {
          "base_uri": "https://localhost:8080/"
        },
        "id": "0b1c3307",
        "outputId": "60771241-1552-43ac-bc84-73ef71c61856"
      },
      "outputs": [
        {
          "output_type": "execute_result",
          "data": {
            "text/plain": [
              "DecisionTreeClassifier(max_depth=3)"
            ]
          },
          "metadata": {},
          "execution_count": 105
        }
      ],
      "source": [
        "model.fit(X_train,Y_train)"
      ]
    },
    {
      "cell_type": "markdown",
      "id": "e77b1fb5",
      "metadata": {
        "id": "e77b1fb5"
      },
      "source": [
        "### Model Testing"
      ]
    },
    {
      "cell_type": "code",
      "execution_count": 106,
      "id": "6a8b0146",
      "metadata": {
        "colab": {
          "base_uri": "https://localhost:8080/"
        },
        "id": "6a8b0146",
        "outputId": "1e51c3fb-ce68-4361-8b58-3cc7e9b595d1"
      },
      "outputs": [
        {
          "output_type": "execute_result",
          "data": {
            "text/plain": [
              "array([1, 1, 1, 1, 1, 1, 1, 1, 1, 1, 1, 1, 1, 1, 1, 1, 1, 1, 1, 1, 1, 1,\n",
              "       1, 1, 1, 1, 1, 1, 1, 1, 1, 1, 1, 1, 1, 1, 1, 1, 0, 1, 1, 1, 1, 1,\n",
              "       1, 1, 1, 1, 1, 1, 1, 1, 1, 1, 1, 1, 1, 1, 1, 1, 1, 1, 1, 1, 1, 1,\n",
              "       1, 1, 1, 1, 1, 1, 1, 1, 1, 1, 1, 1, 1, 1, 1, 1, 1, 1, 1, 1, 1, 1,\n",
              "       1, 1, 1, 1, 1, 1, 1, 1, 1, 1, 1, 1, 1, 1, 1, 1, 1, 1, 1, 1, 1, 1,\n",
              "       1, 1, 1, 1, 1, 1, 1, 1, 1, 1, 1, 1, 1, 1, 1, 1, 1, 1, 1, 1, 1, 1,\n",
              "       1, 1, 1, 1, 1, 1, 1, 1, 0, 1, 1, 1, 1, 1, 1, 1, 1, 1, 1, 1, 1, 1,\n",
              "       1, 1, 1, 1, 1, 1, 1, 1, 1, 1, 1, 1, 1, 1, 1, 1, 1, 1, 1, 1, 1, 1,\n",
              "       1, 1, 1, 1, 1, 1, 1, 1, 1, 1, 1, 1, 1, 1, 1, 1, 1, 1, 1, 1, 1, 1,\n",
              "       1, 1, 1, 1, 1, 1, 1, 1, 1, 1, 1, 1, 1, 1, 1, 1, 1, 1, 1, 1, 1, 1,\n",
              "       1, 1, 1, 1, 1, 1, 1, 1, 1, 1, 1, 1, 1, 1, 1, 1, 1, 1, 1, 0, 1, 1,\n",
              "       1, 1, 1, 1, 1, 1, 1, 1, 1, 1, 1, 1, 1, 1, 1, 1, 1, 1, 1, 1, 1, 0,\n",
              "       1, 1, 1, 1, 1, 1, 1, 1, 1, 1, 1, 1, 1, 1, 1, 1, 1, 1, 1, 1, 1, 1,\n",
              "       1, 1, 1, 1, 1, 1, 1, 1, 1, 1, 1, 1, 1, 1, 1, 1, 1, 1, 1, 1, 1, 1,\n",
              "       1, 1, 1, 1, 1, 1, 1, 1, 1, 1, 1, 1, 1, 1, 1, 1, 1, 1, 1, 1, 1, 1,\n",
              "       1, 1, 1, 1, 1, 1, 1, 1, 1, 1, 1, 1, 1, 1, 1, 1, 1, 1, 1, 1, 1, 1,\n",
              "       1, 1, 1, 1, 1, 1, 1, 1, 1, 1, 1, 1, 1, 1, 1, 1, 1, 1, 1, 1, 1, 1,\n",
              "       1, 1, 1, 1, 1, 1, 1, 1, 1, 1, 1, 1, 1, 1, 1, 1, 1, 1, 1, 1, 1, 1,\n",
              "       1, 1, 1, 1, 0, 1, 1, 1, 1, 1, 1, 1, 1, 1, 1, 1, 1, 1, 1, 1, 1, 1,\n",
              "       1, 1, 1, 1, 1, 1, 1, 1, 1, 1, 1, 1, 1, 1, 1, 1, 1, 1, 1, 1, 1, 1,\n",
              "       1, 1, 1, 1, 1, 1, 1, 1, 1, 1, 1, 1, 1, 1, 1, 1, 1, 1, 1, 1, 1, 1,\n",
              "       1, 1, 1, 1, 1, 1, 1, 0, 1, 1, 1, 1, 1, 1, 1, 1, 1, 1])"
            ]
          },
          "metadata": {},
          "execution_count": 106
        }
      ],
      "source": [
        "Y_train_pred=model.predict(X_train)\n",
        "Y_train_pred"
      ]
    },
    {
      "cell_type": "code",
      "execution_count": 107,
      "id": "ab0e8d7a",
      "metadata": {
        "colab": {
          "base_uri": "https://localhost:8080/"
        },
        "id": "ab0e8d7a",
        "outputId": "7cc34d8c-f308-44bc-b6ee-30e244102f51"
      },
      "outputs": [
        {
          "output_type": "execute_result",
          "data": {
            "text/plain": [
              "array([1, 1, 1, 1, 1, 1, 1, 1, 1, 1, 1, 1, 1, 1, 1, 1, 1, 1, 1, 1, 1, 1,\n",
              "       1, 1, 1, 1, 1, 1, 1, 1, 1, 1, 1, 1, 1, 1, 1, 1, 1, 1, 1, 1, 1, 1,\n",
              "       1, 1, 1, 1, 1, 1, 1, 1, 1, 1, 1, 1, 1, 1, 1, 1, 1, 1, 1, 1, 1, 1,\n",
              "       1, 1, 1, 1, 1, 1, 1, 1, 1, 1, 1, 1, 1, 1, 1, 1, 1, 1, 1, 1, 1, 1,\n",
              "       1, 1, 1, 1, 1, 1, 1, 1, 1, 1, 1, 1, 1, 1, 1, 1, 1, 1, 1, 1, 1, 1,\n",
              "       1, 1, 1, 1, 1, 1, 1, 1, 1, 1])"
            ]
          },
          "metadata": {},
          "execution_count": 107
        }
      ],
      "source": [
        "Y_test_pred=model.predict(X_test)\n",
        "Y_test_pred"
      ]
    },
    {
      "cell_type": "markdown",
      "id": "1a10ad7a",
      "metadata": {
        "id": "1a10ad7a"
      },
      "source": [
        "### Model Evaluation"
      ]
    },
    {
      "cell_type": "markdown",
      "id": "8e353c43",
      "metadata": {
        "id": "8e353c43"
      },
      "source": [
        "Training Data"
      ]
    },
    {
      "cell_type": "code",
      "execution_count": 108,
      "id": "b5eb9595",
      "metadata": {
        "colab": {
          "base_uri": "https://localhost:8080/"
        },
        "id": "b5eb9595",
        "outputId": "9230dad6-74b3-4884-f722-9600d378dcfd"
      },
      "outputs": [
        {
          "output_type": "stream",
          "name": "stdout",
          "text": [
            "              precision    recall  f1-score   support\n",
            "\n",
            "           0       1.00      0.06      0.12        98\n",
            "           1       0.81      1.00      0.89       382\n",
            "\n",
            "    accuracy                           0.81       480\n",
            "   macro avg       0.90      0.53      0.50       480\n",
            "weighted avg       0.85      0.81      0.73       480\n",
            "\n"
          ]
        }
      ],
      "source": [
        "print(classification_report(Y_train,Y_train_pred)) "
      ]
    },
    {
      "cell_type": "code",
      "execution_count": 109,
      "id": "56e6e584",
      "metadata": {
        "colab": {
          "base_uri": "https://localhost:8080/"
        },
        "id": "56e6e584",
        "outputId": "7b02b162-d7ec-407e-c87f-eb8a89e893ab"
      },
      "outputs": [
        {
          "output_type": "stream",
          "name": "stdout",
          "text": [
            "[[  6  92]\n",
            " [  0 382]]\n"
          ]
        }
      ],
      "source": [
        "print(confusion_matrix(Y_train,Y_train_pred))"
      ]
    },
    {
      "cell_type": "code",
      "execution_count": 110,
      "id": "23f00bf6",
      "metadata": {
        "colab": {
          "base_uri": "https://localhost:8080/",
          "height": 314
        },
        "id": "23f00bf6",
        "outputId": "2e23ccd0-5fec-42d0-e3ff-63af0b60433f"
      },
      "outputs": [
        {
          "output_type": "stream",
          "name": "stdout",
          "text": [
            "0.5306122448979591\n"
          ]
        },
        {
          "output_type": "execute_result",
          "data": {
            "text/plain": [
              "Text(0, 0.5, 'True Positive Rate')"
            ]
          },
          "metadata": {},
          "execution_count": 110
        },
        {
          "output_type": "display_data",
          "data": {
            "text/plain": [
              "<Figure size 432x288 with 1 Axes>"
            ],
            "image/png": "[encoded data removed]"
          },
          "metadata": {
            "needs_background": "light"
          }
        }
      ],
      "source": [
        "fpr, tpr, thresholds = roc_curve(Y,model.predict_proba (X)[:,1])\n",
        "auc = roc_auc_score(Y_train,Y_train_pred)\n",
        "print(auc)\n",
        "plt.plot(fpr, tpr, color='red', label=' model ( area  = %0.2f)'%auc)\n",
        "plt.plot([0, 1], [0, 1], 'k--')\n",
        "plt.xlabel('False Positive Rate or [1 - True Negative Rate]')\n",
        "plt.ylabel('True Positive Rate')"
      ]
    },
    {
      "cell_type": "markdown",
      "id": "c7d43273",
      "metadata": {
        "id": "c7d43273"
      },
      "source": [
        "Testing Data"
      ]
    },
    {
      "cell_type": "code",
      "execution_count": 111,
      "id": "7a50251d",
      "metadata": {
        "colab": {
          "base_uri": "https://localhost:8080/"
        },
        "id": "7a50251d",
        "outputId": "713ab678-9c11-479f-b330-39508d9e5801"
      },
      "outputs": [
        {
          "output_type": "stream",
          "name": "stdout",
          "text": [
            "              precision    recall  f1-score   support\n",
            "\n",
            "           0       0.00      0.00      0.00        26\n",
            "           1       0.78      1.00      0.88        94\n",
            "\n",
            "    accuracy                           0.78       120\n",
            "   macro avg       0.39      0.50      0.44       120\n",
            "weighted avg       0.61      0.78      0.69       120\n",
            "\n"
          ]
        }
      ],
      "source": [
        "print(classification_report(Y_test,Y_test_pred)) "
      ]
    },
    {
      "cell_type": "code",
      "execution_count": 112,
      "id": "fa6aeee4",
      "metadata": {
        "colab": {
          "base_uri": "https://localhost:8080/"
        },
        "id": "fa6aeee4",
        "outputId": "afbbb7f7-a760-4155-c358-8c6ea175ca90"
      },
      "outputs": [
        {
          "output_type": "stream",
          "name": "stdout",
          "text": [
            "[[ 0 26]\n",
            " [ 0 94]]\n"
          ]
        }
      ],
      "source": [
        "print(confusion_matrix(Y_test,Y_test_pred))\n"
      ]
    },
    {
      "cell_type": "code",
      "execution_count": 113,
      "id": "400ea3bd",
      "metadata": {
        "colab": {
          "base_uri": "https://localhost:8080/",
          "height": 314
        },
        "id": "400ea3bd",
        "outputId": "afacab88-0526-4493-ae88-52826a4eeb40"
      },
      "outputs": [
        {
          "output_type": "stream",
          "name": "stdout",
          "text": [
            "0.5\n"
          ]
        },
        {
          "output_type": "execute_result",
          "data": {
            "text/plain": [
              "Text(0, 0.5, 'True Positive Rate')"
            ]
          },
          "metadata": {},
          "execution_count": 113
        },
        {
          "output_type": "display_data",
          "data": {
            "text/plain": [
              "<Figure size 432x288 with 1 Axes>"
            ],
            "image/png": "[encoded data removed]"
          },
          "metadata": {
            "needs_background": "light"
          }
        }
      ],
      "source": [
        "fpr, tpr, thresholds = roc_curve(Y,model.predict_proba (X)[:,1])\n",
        "auc = roc_auc_score(Y_test,Y_test_pred)\n",
        "print(auc)\n",
        "plt.plot(fpr, tpr, color='red', label=' model ( area  = %0.2f)'%auc)\n",
        "plt.plot([0, 1], [0, 1], 'k--')\n",
        "plt.xlabel('False Positive Rate or [1 - True Negative Rate]')\n",
        "plt.ylabel('True Positive Rate')"
      ]
    },
    {
      "cell_type": "code",
      "execution_count": 114,
      "id": "d19527bd",
      "metadata": {
        "colab": {
          "base_uri": "https://localhost:8080/",
          "height": 575
        },
        "id": "d19527bd",
        "outputId": "be5de2cc-7eed-4297-e336-dedd6e695e2c"
      },
      "outputs": [
        {
          "output_type": "display_data",
          "data": {
            "text/plain": [
              "<Figure size 1152x720 with 1 Axes>"
            ],
            "image/png": "[encoded data removed]"
          },
          "metadata": {
            "needs_background": "light"
          }
        }
      ],
      "source": [
        "# Apply the decision tree classifier model to the data with a maximum tree depth of 3\n",
        "model_all_params_max_depth_3 = DecisionTreeClassifier(max_depth=3).fit(X_train,Y_train)\n",
        "# Prepare a plot figure with set size.\n",
        "plt.figure(figsize = (16,10))\n",
        "# Plot the decision tree.\n",
        "plot_tree(model_all_params_max_depth_3,\n",
        "          rounded = True,\n",
        "          filled = True)\n",
        "# Display the tree plot figure.\n",
        "plt.show()"
      ]
    },
    {
      "cell_type": "markdown",
      "id": "d0008946",
      "metadata": {
        "id": "d0008946"
      },
      "source": [
        "Training accuracy- 81%\n",
        "\n",
        "Testing accuracy- 78%"
      ]
    },
    {
      "cell_type": "code",
      "execution_count": 114,
      "id": "31691000",
      "metadata": {
        "id": "31691000"
      },
      "outputs": [],
      "source": []
    }
  ],
  "metadata": {
    "kernelspec": {
      "display_name": "Python 3 (ipykernel)",
      "language": "python",
      "name": "python3"
    },
    "language_info": {
      "codemirror_mode": {
        "name": "ipython",
        "version": 3
      },
      "file_extension": ".py",
      "mimetype": "text/x-python",
      "name": "python",
      "nbconvert_exporter": "python",
      "pygments_lexer": "ipython3",
      "version": "3.9.7"
    },
    "colab": {
      "provenance": []
    }
  },
  "nbformat": 4,
  "nbformat_minor": 5
}